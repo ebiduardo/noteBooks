{
  "nbformat": 4,
  "nbformat_minor": 0,
  "metadata": {
    "colab": {
      "name": "cpp stl dict map.ipynb",
      "provenance": [],
      "collapsed_sections": [
        "jzt901SC6ckG",
        "NkwQ_Pxf7nXX",
        "dLHbCV8z6d6-"
      ],
      "include_colab_link": true
    },
    "kernelspec": {
      "name": "python3",
      "display_name": "Python 3"
    }
  },
  "cells": [
    {
      "cell_type": "markdown",
      "metadata": {
        "id": "view-in-github",
        "colab_type": "text"
      },
      "source": [
        "<a href=\"https://colab.research.google.com/github/ebiduardo/noteBooks/blob/main/usandoC.ipynb\" target=\"_parent\"><img src=\"https://colab.research.google.com/assets/colab-badge.svg\" alt=\"Open In Colab\"/></a>"
      ]
    },
    {
      "cell_type": "code",
      "metadata": {
        "id": "bC-jVyle5vEj",
        "colab": {
          "base_uri": "https://localhost:8080/",
          "height": 34
        },
        "outputId": "48397a43-48be-4701-bcdc-600936d0a676"
      },
      "source": [
        "1+1"
      ],
      "execution_count": null,
      "outputs": [
        {
          "output_type": "execute_result",
          "data": {
            "text/plain": [
              "2"
            ]
          },
          "metadata": {
            "tags": []
          },
          "execution_count": 1
        }
      ]
    },
    {
      "cell_type": "markdown",
      "metadata": {
        "id": "jzt901SC6ckG"
      },
      "source": [
        "## Hello"
      ]
    },
    {
      "cell_type": "code",
      "metadata": {
        "id": "pmbjcf205wel",
        "colab": {
          "base_uri": "https://localhost:8080/"
        },
        "outputId": "2e54b2f0-ce58-43a8-dd56-f2adbc3307d4"
      },
      "source": [
        "%%file hello.c\n",
        "#include <stdio.h>\n",
        "\n",
        "int main() {\n",
        "    printf( \"Hello World! !\");\n",
        "    return 0;\n",
        "}"
      ],
      "execution_count": 8,
      "outputs": [
        {
          "output_type": "stream",
          "name": "stdout",
          "text": [
            "Overwriting hello.c\n"
          ]
        }
      ]
    },
    {
      "cell_type": "code",
      "metadata": {
        "id": "AoGjkQAs6Ac5"
      },
      "source": [
        "!gcc hello.c"
      ],
      "execution_count": 9,
      "outputs": []
    },
    {
      "cell_type": "code",
      "metadata": {
        "id": "KOQhXXcG6LVt",
        "collapsed": true,
        "colab": {
          "base_uri": "https://localhost:8080/"
        },
        "outputId": "c6cff148-98ed-4bea-d343-86599910214e"
      },
      "source": [
        "!ls -al"
      ],
      "execution_count": 10,
      "outputs": [
        {
          "output_type": "stream",
          "name": "stdout",
          "text": [
            "total 36\n",
            "drwxr-xr-x 1 root root 4096 Jun 13 20:31 .\n",
            "drwxr-xr-x 1 root root 4096 Jun 13 20:27 ..\n",
            "-rwxr-xr-x 1 root root 8304 Jun 13 20:31 a.out\n",
            "drwxr-xr-x 4 root root 4096 Jun  1 13:49 .config\n",
            "-rw-r--r-- 1 root root   79 Jun 13 20:31 hello.c\n",
            "-rw-r--r-- 1 root root   82 Jun 13 20:30 hello.cpp\n",
            "drwxr-xr-x 1 root root 4096 Jun  1 13:50 sample_data\n"
          ]
        }
      ]
    },
    {
      "cell_type": "code",
      "metadata": {
        "id": "a1UxmeCb6Ma3",
        "colab": {
          "base_uri": "https://localhost:8080/"
        },
        "outputId": "83d0a3c0-106a-41d4-e2e3-ac287d1e13b5"
      },
      "source": [
        "!./a.out"
      ],
      "execution_count": 11,
      "outputs": [
        {
          "output_type": "stream",
          "name": "stdout",
          "text": [
            "Hello World! !"
          ]
        }
      ]
    },
    {
      "cell_type": "markdown",
      "metadata": {
        "id": "NkwQ_Pxf7nXX"
      },
      "source": [
        "## cpp magic"
      ]
    },
    {
      "cell_type": "markdown",
      "metadata": {
        "id": "cMOdM5CT8K6q"
      },
      "source": [
        "Run automatically"
      ]
    },
    {
      "cell_type": "code",
      "metadata": {
        "id": "pdqE0Ve-7rcw"
      },
      "source": [
        "from IPython.core.magic import register_cell_magic"
      ],
      "execution_count": 54,
      "outputs": []
    },
    {
      "cell_type": "code",
      "metadata": {
        "id": "Xo-WFRqZ7wEp"
      },
      "source": [
        "@register_cell_magic\n",
        "def sourceC(line, cell):\n",
        "  with open('a.c', 'w') as f:\n",
        "    f.write(cell)\n",
        "  !gcc a.c\n",
        "  !./a.out"
      ],
      "execution_count": 55,
      "outputs": []
    },
    {
      "cell_type": "code",
      "metadata": {
        "id": "G1bFc-2D8IkC",
        "colab": {
          "base_uri": "https://localhost:8080/"
        },
        "outputId": "74c493c1-057a-4eaa-dcb8-2eafefdf9ace"
      },
      "source": [
        "%%sourceC\n",
        "#include <stdio.h>\n",
        "\n",
        "int main() {\n",
        "    printf( \"Hello World! !\");\n",
        "    return 0;\n",
        "}"
      ],
      "execution_count": 56,
      "outputs": [
        {
          "output_type": "stream",
          "name": "stdout",
          "text": [
            "Hello World! !"
          ]
        }
      ]
    },
    {
      "cell_type": "code",
      "metadata": {
        "id": "s-BjFN3__DeX"
      },
      "source": [
        "c_header = \"\"\"\n",
        "/*\n",
        "#include <iostream> \n",
        "#include <string>\n",
        "#include <iterator> \n",
        "#include <utility> \n",
        "#include <map>\n",
        "using namespace std;\n",
        "*/\n",
        "#include <stdio.h>\n",
        "\"\"\""
      ],
      "execution_count": 60,
      "outputs": []
    },
    {
      "cell_type": "code",
      "metadata": {
        "id": "-x3O4NfiAINM"
      },
      "source": [
        "@register_cell_magic\n",
        "def sourceCB(line, cell):\n",
        "  srcN=\"b.c\"\n",
        "  if ' main()' not in cell:\n",
        "    cell = \"int main(){\" + cell + \"}\"\n",
        "  with open(srcN, 'w') as f:\n",
        "    f.write(c_header + cell)\n",
        "  !cat b.c\n"
      ],
      "execution_count": 70,
      "outputs": []
    },
    {
      "cell_type": "code",
      "metadata": {
        "id": "QO8Fa3swAdLR",
        "colab": {
          "base_uri": "https://localhost:8080/"
        },
        "outputId": "468c06ad-d66e-407a-befc-d1846cbbef4e"
      },
      "source": [
        "%%sourceCB\n",
        "printf( \".\\n Hello World!!!\\n.\");"
      ],
      "execution_count": 84,
      "outputs": [
        {
          "output_type": "stream",
          "name": "stdout",
          "text": [
            "\n",
            "/*\n",
            "#include <iostream> \n",
            "#include <string>\n",
            "#include <iterator> \n",
            "#include <utility> \n",
            "#include <map>\n",
            "using namespace std;\n",
            "*/\n",
            "#include <stdio.h>\n",
            "int main(){printf( \".\\n Hello World!!!\\n.\");}"
          ]
        }
      ]
    },
    {
      "cell_type": "code",
      "source": [
        "!gcc b.c; ./a.out"
      ],
      "metadata": {
        "id": "m_Dlam-uOQtk",
        "outputId": "35c345b2-dd4d-40ea-bd38-8fc49adc95f6",
        "colab": {
          "base_uri": "https://localhost:8080/"
        }
      },
      "execution_count": 85,
      "outputs": [
        {
          "output_type": "stream",
          "name": "stdout",
          "text": [
            ".\n",
            " Hello World!!!\n",
            "."
          ]
        }
      ]
    },
    {
      "cell_type": "code",
      "metadata": {
        "id": "YSFXay5tAvQn",
        "colab": {
          "base_uri": "https://localhost:8080/"
        },
        "outputId": "8da05f62-17cb-4b50-cb71-725a65d81a64"
      },
      "source": [
        "%%sourceCB\n",
        "for(int i=0; i<5; i++) {\n",
        "    printf( \"i=%d, \", i);\n",
        "}"
      ],
      "execution_count": 80,
      "outputs": [
        {
          "output_type": "stream",
          "name": "stdout",
          "text": [
            "\n",
            "/*\n",
            "#include <iostream> \n",
            "#include <string>\n",
            "#include <iterator> \n",
            "#include <utility> \n",
            "#include <map>\n",
            "using namespace std;\n",
            "*/\n",
            "#include <stdio.h>\n",
            "int main(){for(int i=0; i<5; i++) {\n",
            "    printf( \"i=%d, \", i);\n",
            "}}"
          ]
        }
      ]
    },
    {
      "cell_type": "code",
      "source": [
        "!gcc b.c\n",
        "!./a.out"
      ],
      "metadata": {
        "id": "tJNVS6P1Os5K",
        "outputId": "89bcf767-aef6-4ec2-96d0-60f6d234265e",
        "colab": {
          "base_uri": "https://localhost:8080/"
        }
      },
      "execution_count": 81,
      "outputs": [
        {
          "output_type": "stream",
          "name": "stdout",
          "text": [
            "i=0, i=1, i=2, i=3, i=4, "
          ]
        }
      ]
    },
    {
      "cell_type": "markdown",
      "metadata": {
        "id": "dLHbCV8z6d6-"
      },
      "source": [
        "## STL"
      ]
    },
    {
      "cell_type": "code",
      "metadata": {
        "id": "rwQmqZa66ZiG",
        "colab": {
          "base_uri": "https://localhost:8080/"
        },
        "outputId": "c2762030-5181-4fe2-b38f-ded38e3bbe2f"
      },
      "source": [
        "# pair\n",
        "%%cpp\n",
        "pair <int, char> PAIR1 ; \n",
        "\n",
        "PAIR1.first = 100; \n",
        "PAIR1.second = 'G' ; \n",
        "\n",
        "cout << PAIR1.first << \" \" ; \n",
        "cout << PAIR1.second << endl ; "
      ],
      "execution_count": null,
      "outputs": [
        {
          "output_type": "stream",
          "text": [
            "100 G\n"
          ],
          "name": "stdout"
        }
      ]
    },
    {
      "cell_type": "code",
      "metadata": {
        "id": "anINm7Bw7RMF",
        "colab": {
          "base_uri": "https://localhost:8080/"
        },
        "outputId": "6d8138d4-34cd-4daa-b270-43cd9779856e"
      },
      "source": [
        "# Map\n",
        "%%cpp\n",
        "\n",
        "// empty map container \n",
        "map<int, int> gquiz1; \n",
        "\n",
        "// insert elements in random order \n",
        "gquiz1.insert(pair<int, int>(1, 40)); \n",
        "gquiz1.insert(pair<int, int>(2, 30)); \n",
        "gquiz1.insert(pair<int, int>(3, 60)); \n",
        "gquiz1.insert(pair<int, int>(4, 20)); \n",
        "gquiz1.insert(pair<int, int>(5, 50)); \n",
        "gquiz1.insert(pair<int, int>(6, 50)); \n",
        "gquiz1.insert(pair<int, int>(7, 10)); \n",
        "\n",
        "// printing map gquiz1 \n",
        "map<int, int>::iterator itr; \n",
        "cout << \"\\nThe map gquiz1 is : \\n\"; \n",
        "cout << \"\\tKEY\\tELEMENT\\n\"; \n",
        "for (itr = gquiz1.begin(); itr != gquiz1.end(); ++itr) { \n",
        "    cout << '\\t' << itr->first \n",
        "          << '\\t' << itr->second << '\\n'; \n",
        "} \n",
        "cout << endl; \n",
        "\n",
        "// assigning the elements from gquiz1 to gquiz2 \n",
        "map<int, int> gquiz2(gquiz1.begin(), gquiz1.end()); \n",
        "\n",
        "// print all elements of the map gquiz2 \n",
        "cout << \"\\nThe map gquiz2 after\"\n",
        "      << \" assign from gquiz1 is : \\n\"; \n",
        "cout << \"\\tKEY\\tELEMENT\\n\"; \n",
        "for (itr = gquiz2.begin(); itr != gquiz2.end(); ++itr) { \n",
        "    cout << '\\t' << itr->first \n",
        "          << '\\t' << itr->second << '\\n'; \n",
        "} \n",
        "cout << endl; \n",
        "\n",
        "// remove all elements up to \n",
        "// element with key=3 in gquiz2 \n",
        "cout << \"\\ngquiz2 after removal of\"\n",
        "        \" elements less than key=3 : \\n\"; \n",
        "cout << \"\\tKEY\\tELEMENT\\n\"; \n",
        "gquiz2.erase(gquiz2.begin(), gquiz2.find(3)); \n",
        "for (itr = gquiz2.begin(); itr != gquiz2.end(); ++itr) { \n",
        "    cout << '\\t' << itr->first \n",
        "          << '\\t' << itr->second << '\\n'; \n",
        "} \n",
        "\n",
        "// remove all elements with key = 4 \n",
        "int num; \n",
        "num = gquiz2.erase(4); \n",
        "cout << \"\\ngquiz2.erase(4) : \"; \n",
        "cout << num << \" removed \\n\"; \n",
        "cout << \"\\tKEY\\tELEMENT\\n\"; \n",
        "for (itr = gquiz2.begin(); itr != gquiz2.end(); ++itr) { \n",
        "    cout << '\\t' << itr->first \n",
        "          << '\\t' << itr->second << '\\n'; \n",
        "} \n",
        "\n",
        "cout << endl; \n",
        "\n",
        "// lower bound and upper bound for map gquiz1 key = 5 \n",
        "cout << \"gquiz1.lower_bound(5) : \"\n",
        "      << \"\\tKEY = \"; \n",
        "cout << gquiz1.lower_bound(5)->first << '\\t'; \n",
        "cout << \"\\tELEMENT = \"\n",
        "      << gquiz1.lower_bound(5)->second << endl; \n",
        "cout << \"gquiz1.upper_bound(5) : \"\n",
        "      << \"\\tKEY = \"; \n",
        "cout << gquiz1.upper_bound(5)->first << '\\t'; \n",
        "cout << \"\\tELEMENT = \"\n",
        "      << gquiz1.upper_bound(5)->second << endl; "
      ],
      "execution_count": null,
      "outputs": [
        {
          "output_type": "stream",
          "text": [
            "\n",
            "The map gquiz1 is : \n",
            "\tKEY\tELEMENT\n",
            "\t1\t40\n",
            "\t2\t30\n",
            "\t3\t60\n",
            "\t4\t20\n",
            "\t5\t50\n",
            "\t6\t50\n",
            "\t7\t10\n",
            "\n",
            "\n",
            "The map gquiz2 after assign from gquiz1 is : \n",
            "\tKEY\tELEMENT\n",
            "\t1\t40\n",
            "\t2\t30\n",
            "\t3\t60\n",
            "\t4\t20\n",
            "\t5\t50\n",
            "\t6\t50\n",
            "\t7\t10\n",
            "\n",
            "\n",
            "gquiz2 after removal of elements less than key=3 : \n",
            "\tKEY\tELEMENT\n",
            "\t3\t60\n",
            "\t4\t20\n",
            "\t5\t50\n",
            "\t6\t50\n",
            "\t7\t10\n",
            "\n",
            "gquiz2.erase(4) : 1 removed \n",
            "\tKEY\tELEMENT\n",
            "\t3\t60\n",
            "\t5\t50\n",
            "\t6\t50\n",
            "\t7\t10\n",
            "\n",
            "gquiz1.lower_bound(5) : \tKEY = 5\t\tELEMENT = 50\n",
            "gquiz1.upper_bound(5) : \tKEY = 6\t\tELEMENT = 50\n"
          ],
          "name": "stdout"
        }
      ]
    },
    {
      "cell_type": "code",
      "metadata": {
        "id": "MLYPnoo08kEG",
        "colab": {
          "base_uri": "https://localhost:8080/"
        },
        "outputId": "93f677c6-5576-4e1f-b3f8-12d9e87eeabd"
      },
      "source": [
        "# map string แบบง่ายๆ\n",
        "%%cpp\n",
        "map<string, string> m;\n",
        "string s1 = \"1\";\n",
        "string v1 = \"A\";\n",
        "\n",
        "m[s1] = v1;\n",
        "cout << m[s1];"
      ],
      "execution_count": null,
      "outputs": [
        {
          "output_type": "stream",
          "text": [
            "A"
          ],
          "name": "stdout"
        }
      ]
    },
    {
      "cell_type": "code",
      "metadata": {
        "id": "XwVKU5hU9RS8",
        "colab": {
          "base_uri": "https://localhost:8080/"
        },
        "outputId": "c2d4e571-51de-4a49-d0e5-8681ad0a1207"
      },
      "source": [
        "# Counter แบบ Python\n",
        "%%cpp\n",
        "\n",
        "map<string, int> m;\n",
        "m[\"word\"] = 0;\n",
        "for (int i=0; i<5; i++) {\n",
        "    m[\"word\"] += 1;\n",
        "}\n",
        "cout << m[\"word\"];"
      ],
      "execution_count": null,
      "outputs": [
        {
          "output_type": "stream",
          "text": [
            "5"
          ],
          "name": "stdout"
        }
      ]
    },
    {
      "cell_type": "code",
      "metadata": {
        "id": "WgFUiB6P-wmB"
      },
      "source": [
        ""
      ],
      "execution_count": null,
      "outputs": []
    }
  ]
}