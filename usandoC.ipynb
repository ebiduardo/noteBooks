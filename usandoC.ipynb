{
  "nbformat": 4,
  "nbformat_minor": 0,
  "metadata": {
    "colab": {
      "name": "usandoC.ipynb",
      "provenance": [],
      "collapsed_sections": [
        "jzt901SC6ckG",
        "NkwQ_Pxf7nXX",
        "dLHbCV8z6d6-"
      ],
      "include_colab_link": true
    },
    "kernelspec": {
      "name": "python3",
      "display_name": "Python 3"
    }
  },
  "cells": [
    {
      "cell_type": "markdown",
      "metadata": {
        "id": "view-in-github",
        "colab_type": "text"
      },
      "source": [
        "<a href=\"https://colab.research.google.com/github/ebiduardo/noteBooks/blob/main/usandoC.ipynb\" target=\"_parent\"><img src=\"https://colab.research.google.com/assets/colab-badge.svg\" alt=\"Open In Colab\"/></a>"
      ]
    },
    {
      "cell_type": "markdown",
      "metadata": {
        "id": "jzt901SC6ckG"
      },
      "source": [
        "## Hello C\n"
      ]
    },
    {
      "cell_type": "code",
      "metadata": {
        "id": "pmbjcf205wel",
        "colab": {
          "base_uri": "https://localhost:8080/"
        },
        "outputId": "3b8c3640-f2dd-43b7-b904-91f71e7b9ced"
      },
      "source": [
        "%%file hello.c\n",
        "#include <stdio.h>\n",
        "\n",
        "int main() {\n",
        "    printf( \"Hello World! !\");\n",
        "    return 0;\n",
        "}"
      ],
      "execution_count": 2,
      "outputs": [
        {
          "output_type": "stream",
          "name": "stdout",
          "text": [
            "Writing hello.c\n"
          ]
        }
      ]
    },
    {
      "cell_type": "code",
      "metadata": {
        "id": "AoGjkQAs6Ac5"
      },
      "source": [
        "!gcc hello.c"
      ],
      "execution_count": 3,
      "outputs": []
    },
    {
      "cell_type": "code",
      "metadata": {
        "id": "KOQhXXcG6LVt",
        "collapsed": true,
        "colab": {
          "base_uri": "https://localhost:8080/"
        },
        "outputId": "52292119-3d40-44f0-924c-79c2eddca93e"
      },
      "source": [
        "!ls -al"
      ],
      "execution_count": 4,
      "outputs": [
        {
          "output_type": "stream",
          "name": "stdout",
          "text": [
            "total 32\n",
            "drwxr-xr-x 1 root root 4096 Jun 20 19:22 .\n",
            "drwxr-xr-x 1 root root 4096 Jun 20 19:20 ..\n",
            "-rwxr-xr-x 1 root root 8304 Jun 20 19:22 a.out\n",
            "drwxr-xr-x 4 root root 4096 Jun 15 13:41 .config\n",
            "-rw-r--r-- 1 root root   79 Jun 20 19:22 hello.c\n",
            "drwxr-xr-x 1 root root 4096 Jun 15 13:42 sample_data\n"
          ]
        }
      ]
    },
    {
      "cell_type": "code",
      "metadata": {
        "id": "a1UxmeCb6Ma3",
        "colab": {
          "base_uri": "https://localhost:8080/"
        },
        "outputId": "8ea1e0c7-52d7-44a8-e601-fa873a19ed80"
      },
      "source": [
        "!./a.out"
      ],
      "execution_count": 5,
      "outputs": [
        {
          "output_type": "stream",
          "name": "stdout",
          "text": [
            "Hello World! !"
          ]
        }
      ]
    },
    {
      "cell_type": "markdown",
      "metadata": {
        "id": "NkwQ_Pxf7nXX"
      },
      "source": [
        "## criar cell_magic para experimentos com linguagem C e C++\n"
      ]
    },
    {
      "cell_type": "markdown",
      "metadata": {
        "id": "cMOdM5CT8K6q"
      },
      "source": [
        "Run automatically"
      ]
    },
    {
      "cell_type": "code",
      "metadata": {
        "id": "pdqE0Ve-7rcw"
      },
      "source": [
        "from IPython.core.magic import register_cell_magic"
      ],
      "execution_count": null,
      "outputs": []
    },
    {
      "cell_type": "markdown",
      "source": [
        "## Criação de um cell_magic de usuario : sourceC"
      ],
      "metadata": {
        "id": "_QZdEGcEOH__"
      }
    },
    {
      "cell_type": "code",
      "metadata": {
        "id": "Xo-WFRqZ7wEp"
      },
      "source": [
        "@register_cell_magic\n",
        "def sourceC(line, cell):\n",
        "  with open('a.c', 'w') as f:\n",
        "    f.write(cell)\n",
        "  !gcc a.c\n",
        "  !./a.out"
      ],
      "execution_count": null,
      "outputs": []
    },
    {
      "cell_type": "code",
      "metadata": {
        "id": "G1bFc-2D8IkC",
        "colab": {
          "base_uri": "https://localhost:8080/"
        },
        "outputId": "61972afb-020d-4f20-fbac-f499d616dc42"
      },
      "source": [
        "%%sourceC\n",
        "#include <stdio.h>\n",
        "int main() {\n",
        "    printf( \"Hello World! !\");\n",
        "    return 0;\n",
        "}"
      ],
      "execution_count": null,
      "outputs": [
        {
          "output_type": "stream",
          "name": "stdout",
          "text": [
            "Hello World! !"
          ]
        }
      ]
    },
    {
      "cell_type": "code",
      "metadata": {
        "id": "s-BjFN3__DeX"
      },
      "source": [
        "c_header = \"\"\"\n",
        "#include <stdio.h>\n",
        "#include <math.h>\n",
        "#include <limits.h>\n",
        "\"\"\""
      ],
      "execution_count": null,
      "outputs": []
    },
    {
      "cell_type": "markdown",
      "source": [
        "## Criação de um cell_magic de usuario : sourceCB"
      ],
      "metadata": {
        "id": "GkI1B8g9NuAr"
      }
    },
    {
      "cell_type": "code",
      "metadata": {
        "id": "-x3O4NfiAINM"
      },
      "source": [
        "@register_cell_magic\n",
        "def sourceCB(line, cell):\n",
        "  srcN=\"b.c\"\n",
        "  if ' main()' not in cell:\n",
        "    cell = \"int main(){\" + cell + \"}\"\n",
        "  with open(srcN, 'w') as f:\n",
        "    f.write(c_header + cell)\n",
        "  !cat b.c\n"
      ],
      "execution_count": null,
      "outputs": []
    },
    {
      "cell_type": "markdown",
      "source": [
        "## Usando o cell_magic: sourceCB, criado na *célula* anterior, para criar um fonte em C com uma única instrução no corpo da função main.\n"
      ],
      "metadata": {
        "id": "DLacDEe_OiPS"
      }
    },
    {
      "cell_type": "code",
      "metadata": {
        "id": "QO8Fa3swAdLR",
        "colab": {
          "base_uri": "https://localhost:8080/"
        },
        "outputId": "ce2df66d-8863-4034-cff7-2b4c2275f70d"
      },
      "source": [
        "%%sourceCB \n",
        "{printf( \".\\n Hello World!!!\\n.\");}"
      ],
      "execution_count": null,
      "outputs": [
        {
          "output_type": "stream",
          "name": "stdout",
          "text": [
            "\n",
            "#include <stdio.h>\n",
            "#include <math.h>\n",
            "#include <limits.h>\n",
            "int main(){{printf( \".\\n Hello World!!!\\n.\");}}"
          ]
        }
      ]
    },
    {
      "cell_type": "markdown",
      "source": [
        "## Compilando o arquivo fonte b.c e rodando o executável a.out"
      ],
      "metadata": {
        "id": "eVBXpw25OTvj"
      }
    },
    {
      "cell_type": "code",
      "source": [
        "!gcc b.c; ./a.out"
      ],
      "metadata": {
        "id": "m_Dlam-uOQtk",
        "outputId": "629331ec-f409-4f74-f9f3-814fd7fc1020",
        "colab": {
          "base_uri": "https://localhost:8080/"
        }
      },
      "execution_count": null,
      "outputs": [
        {
          "output_type": "stream",
          "name": "stdout",
          "text": [
            ".\n",
            " Hello World!!!\n",
            "."
          ]
        }
      ]
    },
    {
      "cell_type": "markdown",
      "source": [
        "## Usando o cell_magic: sourceCB, para criar um fonte em C com uma única instrução no corpo da função main."
      ],
      "metadata": {
        "id": "RzUdd0YXRy_s"
      }
    },
    {
      "cell_type": "code",
      "metadata": {
        "id": "YSFXay5tAvQn",
        "colab": {
          "base_uri": "https://localhost:8080/"
        },
        "outputId": "0de62a34-c951-4152-f2db-7c8ab88d59ab"
      },
      "source": [
        "%%sourceCB\n",
        "\n",
        "for(int i=0; i<5; i++) {\n",
        "    printf( \"i=%d, \", i);\n",
        "}\n",
        "\n"
      ],
      "execution_count": null,
      "outputs": [
        {
          "output_type": "stream",
          "name": "stdout",
          "text": [
            "\n",
            "#include <stdio.h>\n",
            "#include <math.h>\n",
            "#include <limits.h>\n",
            "int main(){\n",
            "for(int i=0; i<5; i++) {\n",
            "    printf( \"i=%d, \", i);\n",
            "}\n",
            "}"
          ]
        }
      ]
    },
    {
      "cell_type": "code",
      "source": [
        "%%sourceCB\n",
        "\n",
        "/* function to show bytes in memory, from location start to start+n*/\n",
        "void show_mem_rep(unsigned char *start, int n) {\n",
        " printf(\" sizeof(number) = %d bytes\\n\",n);\n",
        "        for (int i = 0; i < n; i++)\n",
        "                printf(\" :%.2x:\", start[i]);\n",
        "        printf(\"\\n\");\n",
        "}\n",
        "\n",
        "/*Main function to call above function for 0x01234567*/\n",
        "int main() {\n",
        "\n",
        "printf(\" UINT_MAX  = %x\\n\",   UINT_MAX);\n",
        "printf(\" UINT_MAX  = %u\\n\",   UINT_MAX);\n",
        "printf(\" ULONG_MAX = %lx\\n\", ULONG_MAX);\n",
        "printf(\" ULONG_MAX = %lu\\n\", ULONG_MAX);\n",
        "\n",
        "long A = 0x123456789;\n",
        "printf(\" %lx\\n\", A);\n",
        "show_mem_rep((char *)&A, sizeof(A));\n",
        "\n",
        "{\n",
        "unsigned int B = 0x1234567;\n",
        "printf(\" %x\\n\", B);\n",
        "show_mem_rep((char *)&B, sizeof(B));\n",
        "B = 0x12345; printf(\" %x\\n\", B);\n",
        "show_mem_rep((char *)&B, sizeof(B));\n",
        "B = 0x1234;  printf(\" %x\\n\", B);\n",
        "show_mem_rep((char *)&B, sizeof(B));\n",
        "\n",
        "B = 0xffffffff;\n",
        "printf(\" %x\\n\", B); printf(\" %u\\n\", B);\n",
        "\n",
        "B = (unsigned int) (pow (2, 32)-1);//+0x10000000;\n",
        "printf(\" %x\\n\", B); printf(\" %u\\n\", B);\n",
        "show_mem_rep((unsigned char *)&B, sizeof(B));\n",
        "}\n",
        "return 0;\n",
        "}\n"
      ],
      "metadata": {
        "colab": {
          "base_uri": "https://localhost:8080/"
        },
        "id": "H4r1h6XdY15e",
        "outputId": "5eaae667-1dee-4c45-88fd-62d8ef081601"
      },
      "execution_count": null,
      "outputs": [
        {
          "output_type": "stream",
          "name": "stdout",
          "text": [
            "\n",
            "#include <stdio.h>\n",
            "#include <math.h>\n",
            "#include <limits.h>\n",
            "\n",
            "/* function to show bytes in memory, from location start to start+n*/\n",
            "void show_mem_rep(unsigned char *start, int n) {\n",
            " printf(\" sizeof(number) = %d bytes\\n\",n);\n",
            "        for (int i = 0; i < n; i++)\n",
            "                printf(\" :%.2x:\", start[i]);\n",
            "        printf(\"\\n\");\n",
            "}\n",
            "\n",
            "/*Main function to call above function for 0x01234567*/\n",
            "int main() {\n",
            "\n",
            "printf(\" UINT_MAX  = %x\\n\",   UINT_MAX);\n",
            "printf(\" UINT_MAX  = %u\\n\",   UINT_MAX);\n",
            "printf(\" ULONG_MAX = %lx\\n\", ULONG_MAX);\n",
            "printf(\" ULONG_MAX = %lu\\n\", ULONG_MAX);\n",
            "\n",
            "long A = 0x123456789;\n",
            "printf(\" %lx\\n\", A);\n",
            "show_mem_rep((char *)&A, sizeof(A));\n",
            "\n",
            "{\n",
            "unsigned int B = 0x1234567;\n",
            "printf(\" %x\\n\", B);\n",
            "show_mem_rep((char *)&B, sizeof(B));\n",
            "B = 0x12345; printf(\" %x\\n\", B);\n",
            "show_mem_rep((char *)&B, sizeof(B));\n",
            "B = 0x1234;  printf(\" %x\\n\", B);\n",
            "show_mem_rep((char *)&B, sizeof(B));\n",
            "\n",
            "B = 0xffffffff;\n",
            "printf(\" %x\\n\", B); printf(\" %u\\n\", B);\n",
            "\n",
            "B = (unsigned int) (pow (2, 32)-1);//+0x10000000;\n",
            "printf(\" %x\\n\", B); printf(\" %u\\n\", B);\n",
            "show_mem_rep((unsigned char *)&B, sizeof(B));\n",
            "}\n",
            "return 0;\n",
            "}"
          ]
        }
      ]
    },
    {
      "cell_type": "code",
      "source": [
        "!gcc b.c && ./a.out"
      ],
      "metadata": {
        "id": "tJNVS6P1Os5K",
        "outputId": "154525ab-80ed-4117-df19-1ac81d2724b2",
        "colab": {
          "base_uri": "https://localhost:8080/"
        }
      },
      "execution_count": null,
      "outputs": [
        {
          "output_type": "stream",
          "name": "stdout",
          "text": [
            " UINT_MAX  = ffffffff\n",
            " UINT_MAX  = 4294967295\n",
            " ULONG_MAX = ffffffffffffffff\n",
            " ULONG_MAX = 18446744073709551615\n",
            " 123456789\n",
            " sizeof(number) = 8 bytes\n",
            " :89: :67: :45: :23: :01: :00: :00: :00:\n",
            " 1234567\n",
            " sizeof(number) = 4 bytes\n",
            " :67: :45: :23: :01:\n",
            " 12345\n",
            " sizeof(number) = 4 bytes\n",
            " :45: :23: :01: :00:\n",
            " 1234\n",
            " sizeof(number) = 4 bytes\n",
            " :34: :12: :00: :00:\n",
            " ffffffff\n",
            " 4294967295\n",
            " ffffffff\n",
            " 4294967295\n",
            " sizeof(number) = 4 bytes\n",
            " :ff: :ff: :ff: :ff:\n"
          ]
        }
      ]
    },
    {
      "cell_type": "markdown",
      "metadata": {
        "id": "dLHbCV8z6d6-"
      },
      "source": [
        "## STL"
      ]
    },
    {
      "cell_type": "code",
      "source": [
        "cpp_header = \"\"\"\n",
        "#include <iostream> \n",
        "#include <string>\n",
        "#include <iterator> \n",
        "#include <utility> \n",
        "#include <map>\n",
        "using namespace std;\n",
        "\"\"\""
      ],
      "metadata": {
        "id": "GYMBU_yLS-Fz"
      },
      "execution_count": null,
      "outputs": []
    },
    {
      "cell_type": "code",
      "source": [
        "@register_cell_magic\n",
        "def sourceCPP(line, cell):\n",
        "  srcN=\"b.cpp\"\n",
        "  if ' main()' not in cell:\n",
        "    cell = \"int main(){\" + cell + \"}\"\n",
        "  with open(srcN, 'w') as f:\n",
        "    f.write(cpp_header + cell)\n",
        "  !cat b.cpp"
      ],
      "metadata": {
        "id": "uV_MzFdXSsfZ"
      },
      "execution_count": null,
      "outputs": []
    },
    {
      "cell_type": "code",
      "metadata": {
        "id": "rwQmqZa66ZiG",
        "colab": {
          "base_uri": "https://localhost:8080/"
        },
        "outputId": "f851233d-3c1e-4547-f1b2-1f60cac367fa"
      },
      "source": [
        "# pair\n",
        "%%sourceCPP\n",
        "\n",
        "pair <int, char> PAIR1 ; \n",
        "\n",
        "PAIR1.first = 100; \n",
        "PAIR1.second = 'G' ; \n",
        "\n",
        "cout << PAIR1.first << \" \" ; \n",
        "cout << PAIR1.second << endl ;\n",
        "\n",
        "\n"
      ],
      "execution_count": null,
      "outputs": [
        {
          "output_type": "stream",
          "name": "stdout",
          "text": [
            "\n",
            "#include <iostream> \n",
            "#include <string>\n",
            "#include <iterator> \n",
            "#include <utility> \n",
            "#include <map>\n",
            "using namespace std;\n",
            "int main(){\n",
            "pair <int, char> PAIR1 ; \n",
            "\n",
            "PAIR1.first = 100; \n",
            "PAIR1.second = 'G' ; \n",
            "\n",
            "cout << PAIR1.first << \" \" ; \n",
            "cout << PAIR1.second << endl ;\n",
            "\n",
            "}"
          ]
        }
      ]
    },
    {
      "cell_type": "code",
      "source": [
        "!echo \"compilando e rodando \" \n",
        "!g++ b.cpp && ./a.out"
      ],
      "metadata": {
        "colab": {
          "base_uri": "https://localhost:8080/"
        },
        "id": "7F8wm8i8TyTp",
        "outputId": "15b80dcb-d7e6-4b2a-91ae-01c965440a6a"
      },
      "execution_count": null,
      "outputs": [
        {
          "output_type": "stream",
          "name": "stdout",
          "text": [
            "compilando e rodando \n",
            "100 G\n"
          ]
        }
      ]
    },
    {
      "cell_type": "code",
      "metadata": {
        "id": "anINm7Bw7RMF",
        "colab": {
          "base_uri": "https://localhost:8080/"
        },
        "outputId": "4de0e7ed-2758-4e92-9cb8-f44339e64d77"
      },
      "source": [
        "# Map\n",
        "%%sourceCPP\n",
        "\n",
        "// empty map container \n",
        "map<int, int> gquiz1; \n",
        "\n",
        "// insert elements in random order \n",
        "gquiz1.insert(pair<int, int>(1, 40)); \n",
        "gquiz1.insert(pair<int, int>(2, 30)); \n",
        "gquiz1.insert(pair<int, int>(3, 60)); \n",
        "gquiz1.insert(pair<int, int>(4, 20)); \n",
        "gquiz1.insert(pair<int, int>(5, 50)); \n",
        "gquiz1.insert(pair<int, int>(6, 50)); \n",
        "gquiz1.insert(pair<int, int>(7, 10)); \n",
        "\n",
        "// printing map gquiz1 \n",
        "map<int, int>::iterator itr; \n",
        "cout << \"\\nThe map gquiz1 is : \\n\"; \n",
        "cout << \"\\tKEY\\tELEMENT\\n\"; \n",
        "for (itr = gquiz1.begin(); itr != gquiz1.end(); ++itr) { \n",
        "    cout << '\\t' << itr->first \n",
        "          << '\\t' << itr->second << '\\n'; \n",
        "} \n",
        "cout << endl; \n",
        "\n",
        "// assigning the elements from gquiz1 to gquiz2 \n",
        "map<int, int> gquiz2(gquiz1.begin(), gquiz1.end()); \n",
        "\n",
        "// print all elements of the map gquiz2 \n",
        "cout << \"\\nThe map gquiz2 after\"\n",
        "      << \" assign from gquiz1 is : \\n\"; \n",
        "cout << \"\\tKEY\\tELEMENT\\n\"; \n",
        "for (itr = gquiz2.begin(); itr != gquiz2.end(); ++itr) { \n",
        "    cout << '\\t' << itr->first \n",
        "          << '\\t' << itr->second << '\\n'; \n",
        "} \n",
        "cout << endl; \n",
        "\n",
        "// remove all elements up to \n",
        "// element with key=3 in gquiz2 \n",
        "cout << \"\\ngquiz2 after removal of\"\n",
        "        \" elements less than key=3 : \\n\"; \n",
        "cout << \"\\tKEY\\tELEMENT\\n\"; \n",
        "gquiz2.erase(gquiz2.begin(), gquiz2.find(3)); \n",
        "for (itr = gquiz2.begin(); itr != gquiz2.end(); ++itr) { \n",
        "    cout << '\\t' << itr->first \n",
        "          << '\\t' << itr->second << '\\n'; \n",
        "} \n",
        "\n",
        "// remove all elements with key = 4 \n",
        "int num; \n",
        "num = gquiz2.erase(4); \n",
        "cout << \"\\ngquiz2.erase(4) : \"; \n",
        "cout << num << \" removed \\n\"; \n",
        "cout << \"\\tKEY\\tELEMENT\\n\"; \n",
        "for (itr = gquiz2.begin(); itr != gquiz2.end(); ++itr) { \n",
        "    cout << '\\t' << itr->first \n",
        "          << '\\t' << itr->second << '\\n'; \n",
        "} \n",
        "\n",
        "cout << endl; \n",
        "\n",
        "// lower bound and upper bound for map gquiz1 key = 5 \n",
        "cout << \"gquiz1.lower_bound(5) : \"\n",
        "      << \"\\tKEY = \"; \n",
        "cout << gquiz1.lower_bound(5)->first << '\\t'; \n",
        "cout << \"\\tELEMENT = \"\n",
        "      << gquiz1.lower_bound(5)->second << endl; \n",
        "cout << \"gquiz1.upper_bound(5) : \"\n",
        "      << \"\\tKEY = \"; \n",
        "cout << gquiz1.upper_bound(5)->first << '\\t'; \n",
        "cout << \"\\tELEMENT = \"\n",
        "      << gquiz1.upper_bound(5)->second << endl; "
      ],
      "execution_count": null,
      "outputs": [
        {
          "output_type": "stream",
          "name": "stdout",
          "text": [
            "\n",
            "#include <iostream> \n",
            "#include <string>\n",
            "#include <iterator> \n",
            "#include <utility> \n",
            "#include <map>\n",
            "using namespace std;\n",
            "int main(){\n",
            "// empty map container \n",
            "map<int, int> gquiz1; \n",
            "\n",
            "// insert elements in random order \n",
            "gquiz1.insert(pair<int, int>(1, 40)); \n",
            "gquiz1.insert(pair<int, int>(2, 30)); \n",
            "gquiz1.insert(pair<int, int>(3, 60)); \n",
            "gquiz1.insert(pair<int, int>(4, 20)); \n",
            "gquiz1.insert(pair<int, int>(5, 50)); \n",
            "gquiz1.insert(pair<int, int>(6, 50)); \n",
            "gquiz1.insert(pair<int, int>(7, 10)); \n",
            "\n",
            "// printing map gquiz1 \n",
            "map<int, int>::iterator itr; \n",
            "cout << \"\\nThe map gquiz1 is : \\n\"; \n",
            "cout << \"\\tKEY\\tELEMENT\\n\"; \n",
            "for (itr = gquiz1.begin(); itr != gquiz1.end(); ++itr) { \n",
            "    cout << '\\t' << itr->first \n",
            "          << '\\t' << itr->second << '\\n'; \n",
            "} \n",
            "cout << endl; \n",
            "\n",
            "// assigning the elements from gquiz1 to gquiz2 \n",
            "map<int, int> gquiz2(gquiz1.begin(), gquiz1.end()); \n",
            "\n",
            "// print all elements of the map gquiz2 \n",
            "cout << \"\\nThe map gquiz2 after\"\n",
            "      << \" assign from gquiz1 is : \\n\"; \n",
            "cout << \"\\tKEY\\tELEMENT\\n\"; \n",
            "for (itr = gquiz2.begin(); itr != gquiz2.end(); ++itr) { \n",
            "    cout << '\\t' << itr->first \n",
            "          << '\\t' << itr->second << '\\n'; \n",
            "} \n",
            "cout << endl; \n",
            "\n",
            "// remove all elements up to \n",
            "// element with key=3 in gquiz2 \n",
            "cout << \"\\ngquiz2 after removal of\"\n",
            "        \" elements less than key=3 : \\n\"; \n",
            "cout << \"\\tKEY\\tELEMENT\\n\"; \n",
            "gquiz2.erase(gquiz2.begin(), gquiz2.find(3)); \n",
            "for (itr = gquiz2.begin(); itr != gquiz2.end(); ++itr) { \n",
            "    cout << '\\t' << itr->first \n",
            "          << '\\t' << itr->second << '\\n'; \n",
            "} \n",
            "\n",
            "// remove all elements with key = 4 \n",
            "int num; \n",
            "num = gquiz2.erase(4); \n",
            "cout << \"\\ngquiz2.erase(4) : \"; \n",
            "cout << num << \" removed \\n\"; \n",
            "cout << \"\\tKEY\\tELEMENT\\n\"; \n",
            "for (itr = gquiz2.begin(); itr != gquiz2.end(); ++itr) { \n",
            "    cout << '\\t' << itr->first \n",
            "          << '\\t' << itr->second << '\\n'; \n",
            "} \n",
            "\n",
            "cout << endl; \n",
            "\n",
            "// lower bound and upper bound for map gquiz1 key = 5 \n",
            "cout << \"gquiz1.lower_bound(5) : \"\n",
            "      << \"\\tKEY = \"; \n",
            "cout << gquiz1.lower_bound(5)->first << '\\t'; \n",
            "cout << \"\\tELEMENT = \"\n",
            "      << gquiz1.lower_bound(5)->second << endl; \n",
            "cout << \"gquiz1.upper_bound(5) : \"\n",
            "      << \"\\tKEY = \"; \n",
            "cout << gquiz1.upper_bound(5)->first << '\\t'; \n",
            "cout << \"\\tELEMENT = \"\n",
            "      << gquiz1.upper_bound(5)->second << endl; }"
          ]
        }
      ]
    },
    {
      "cell_type": "code",
      "metadata": {
        "id": "MLYPnoo08kEG",
        "colab": {
          "base_uri": "https://localhost:8080/"
        },
        "outputId": "11a3f718-a5af-407a-c38a-c95587831aaf"
      },
      "source": [
        "# map string แบบง่ายๆ\n",
        "%%sourceCPP\n",
        "map<string, string> m;\n",
        "string s1 = \"1\";\n",
        "string v1 = \"A\";\n",
        "\n",
        "m[s1] = v1;\n",
        "cout << m[s1];"
      ],
      "execution_count": null,
      "outputs": [
        {
          "output_type": "stream",
          "name": "stdout",
          "text": [
            "\n",
            "#include <iostream> \n",
            "#include <string>\n",
            "#include <iterator> \n",
            "#include <utility> \n",
            "#include <map>\n",
            "using namespace std;\n",
            "int main(){map<string, string> m;\n",
            "string s1 = \"1\";\n",
            "string v1 = \"A\";\n",
            "\n",
            "m[s1] = v1;\n",
            "cout << m[s1];}"
          ]
        }
      ]
    },
    {
      "cell_type": "code",
      "metadata": {
        "id": "XwVKU5hU9RS8",
        "colab": {
          "base_uri": "https://localhost:8080/"
        },
        "outputId": "15b9623f-5a0d-4040-f867-ca954f09e017"
      },
      "source": [
        "# Counter แบบ Python\n",
        "%%sourceCPP\n",
        "\n",
        "cout << \"experimento com map<string,int> :\" << endl;\n",
        "map<string, int> m;\n",
        "m[\"word\"] = 0;\n",
        "for (int i=0; i<5; i++) {\n",
        "    m[\"word\"] += 1;\n",
        "}\n",
        "\n",
        "cout << \" m[\\\"word\\\"] = \" << m[\"word\"];\n",
        "\n"
      ],
      "execution_count": null,
      "outputs": [
        {
          "output_type": "stream",
          "name": "stdout",
          "text": [
            "\n",
            "#include <iostream> \n",
            "#include <string>\n",
            "#include <iterator> \n",
            "#include <utility> \n",
            "#include <map>\n",
            "using namespace std;\n",
            "int main(){\n",
            "cout << \"experimento com map<string,int> :\" << endl;\n",
            "map<string, int> m;\n",
            "m[\"word\"] = 0;\n",
            "for (int i=0; i<5; i++) {\n",
            "    m[\"word\"] += 1;\n",
            "}\n",
            "\n",
            "cout << \" m[\\\"word\\\"] = \" << m[\"word\"];\n",
            "}"
          ]
        }
      ]
    },
    {
      "cell_type": "code",
      "source": [
        "!g++ b.cpp && ./a.out"
      ],
      "metadata": {
        "id": "x1Rp48GFh3wG",
        "outputId": "e1dac873-9934-4445-9541-d4d646323158",
        "colab": {
          "base_uri": "https://localhost:8080/"
        }
      },
      "execution_count": null,
      "outputs": [
        {
          "output_type": "stream",
          "name": "stdout",
          "text": [
            "experimento com map<string,int> :\n",
            " m[\"word\"] = 5"
          ]
        }
      ]
    }
  ]
}