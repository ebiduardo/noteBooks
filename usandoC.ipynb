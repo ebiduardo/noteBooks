{
  "nbformat": 4,
  "nbformat_minor": 0,
  "metadata": {
    "colab": {
      "name": "cpp stl dict map.ipynb",
      "provenance": [],
      "collapsed_sections": [
        "jzt901SC6ckG",
        "NkwQ_Pxf7nXX",
        "dLHbCV8z6d6-"
      ],
      "include_colab_link": true
    },
    "kernelspec": {
      "name": "python3",
      "display_name": "Python 3"
    }
  },
  "cells": [
    {
      "cell_type": "markdown",
      "metadata": {
        "id": "view-in-github",
        "colab_type": "text"
      },
      "source": [
        "<a href=\"https://colab.research.google.com/github/ebiduardo/noteBooks/blob/main/usandoC.ipynb\" target=\"_parent\"><img src=\"https://colab.research.google.com/assets/colab-badge.svg\" alt=\"Open In Colab\"/></a>"
      ]
    },
    {
      "cell_type": "code",
      "metadata": {
        "id": "bC-jVyle5vEj",
        "colab": {
          "base_uri": "https://localhost:8080/",
          "height": 34
        },
        "outputId": "48397a43-48be-4701-bcdc-600936d0a676"
      },
      "source": [
        "1+1"
      ],
      "execution_count": null,
      "outputs": [
        {
          "output_type": "execute_result",
          "data": {
            "text/plain": [
              "2"
            ]
          },
          "metadata": {
            "tags": []
          },
          "execution_count": 1
        }
      ]
    },
    {
      "cell_type": "markdown",
      "metadata": {
        "id": "jzt901SC6ckG"
      },
      "source": [
        "## Hello"
      ]
    },
    {
      "cell_type": "code",
      "metadata": {
        "id": "pmbjcf205wel",
        "colab": {
          "base_uri": "https://localhost:8080/"
        },
        "outputId": "3b5387c4-ea95-4b44-b9f3-0c3dfa23d460"
      },
      "source": [
        "%%file hello.c\n",
        "#include <stdio.h>\n",
        "\n",
        "int main() {\n",
        "    printf( \"Hello World! !\");\n",
        "    return 0;\n",
        "}"
      ],
      "execution_count": 5,
      "outputs": [
        {
          "output_type": "stream",
          "name": "stdout",
          "text": [
            "Overwriting hello.c\n"
          ]
        }
      ]
    },
    {
      "cell_type": "code",
      "metadata": {
        "id": "AoGjkQAs6Ac5"
      },
      "source": [
        "!gcc hello.c"
      ],
      "execution_count": 6,
      "outputs": []
    },
    {
      "cell_type": "code",
      "metadata": {
        "id": "KOQhXXcG6LVt",
        "collapsed": true,
        "colab": {
          "base_uri": "https://localhost:8080/"
        },
        "outputId": "9e4134e9-a89a-4965-c6a2-62947ff2a7a9"
      },
      "source": [
        "!ls -al"
      ],
      "execution_count": 9,
      "outputs": [
        {
          "output_type": "stream",
          "name": "stdout",
          "text": [
            "total 32\n",
            "drwxr-xr-x 1 root root 4096 Jun 20 13:03 .\n",
            "drwxr-xr-x 1 root root 4096 Jun 20 13:01 ..\n",
            "-rwxr-xr-x 1 root root 8304 Jun 20 13:03 a.out\n",
            "drwxr-xr-x 4 root root 4096 Jun 15 13:41 .config\n",
            "-rw-r--r-- 1 root root   79 Jun 20 13:03 hello.c\n",
            "drwxr-xr-x 1 root root 4096 Jun 15 13:42 sample_data\n"
          ]
        }
      ]
    },
    {
      "cell_type": "code",
      "metadata": {
        "id": "a1UxmeCb6Ma3",
        "colab": {
          "base_uri": "https://localhost:8080/"
        },
        "outputId": "3fcca69c-8d76-4090-eceb-c5256f2fd02e"
      },
      "source": [
        "!./a.out"
      ],
      "execution_count": 8,
      "outputs": [
        {
          "output_type": "stream",
          "name": "stdout",
          "text": [
            "Hello World! !"
          ]
        }
      ]
    },
    {
      "cell_type": "markdown",
      "metadata": {
        "id": "NkwQ_Pxf7nXX"
      },
      "source": [
        "## criar cell_magic para experimentos com linguagem C e C++\n"
      ]
    },
    {
      "cell_type": "markdown",
      "metadata": {
        "id": "cMOdM5CT8K6q"
      },
      "source": [
        "Run automatically"
      ]
    },
    {
      "cell_type": "code",
      "metadata": {
        "id": "pdqE0Ve-7rcw"
      },
      "source": [
        "from IPython.core.magic import register_cell_magic"
      ],
      "execution_count": 7,
      "outputs": []
    },
    {
      "cell_type": "markdown",
      "source": [
        "## Criação de um cell_magic de usuario : sourceC"
      ],
      "metadata": {
        "id": "_QZdEGcEOH__"
      }
    },
    {
      "cell_type": "code",
      "metadata": {
        "id": "Xo-WFRqZ7wEp"
      },
      "source": [
        "@register_cell_magic\n",
        "def sourceC(line, cell):\n",
        "  with open('a.c', 'w') as f:\n",
        "    f.write(cell)\n",
        "  !gcc a.c\n",
        "  !./a.out"
      ],
      "execution_count": 8,
      "outputs": []
    },
    {
      "cell_type": "code",
      "metadata": {
        "id": "G1bFc-2D8IkC",
        "colab": {
          "base_uri": "https://localhost:8080/"
        },
        "outputId": "10145b4d-0b78-4352-eb12-c16998c7a502"
      },
      "source": [
        "%%sourceC\n",
        "#include <stdio.h>\n",
        "int main() {\n",
        "    printf( \"Hello World! !\");\n",
        "    return 0;\n",
        "}"
      ],
      "execution_count": 9,
      "outputs": [
        {
          "output_type": "stream",
          "name": "stdout",
          "text": [
            "Hello World! !"
          ]
        }
      ]
    },
    {
      "cell_type": "code",
      "metadata": {
        "id": "s-BjFN3__DeX"
      },
      "source": [
        "c_header = \"\"\"\n",
        "#include <stdio.h>\n",
        "#include <math.h>\n",
        "#include <limits.h>\n",
        "\"\"\""
      ],
      "execution_count": 10,
      "outputs": []
    },
    {
      "cell_type": "markdown",
      "source": [
        "## Criação de um cell_magic de usuario : sourceCB"
      ],
      "metadata": {
        "id": "GkI1B8g9NuAr"
      }
    },
    {
      "cell_type": "code",
      "metadata": {
        "id": "-x3O4NfiAINM"
      },
      "source": [
        "@register_cell_magic\n",
        "def sourceCB(line, cell):\n",
        "  srcN=\"b.c\"\n",
        "  if ' main()' not in cell:\n",
        "    cell = \"int main(){\" + cell + \"}\"\n",
        "  with open(srcN, 'w') as f:\n",
        "    f.write(c_header + cell)\n",
        "  !cat b.c\n"
      ],
      "execution_count": 11,
      "outputs": []
    },
    {
      "cell_type": "markdown",
      "source": [
        "## Usando o cell_magic: sourceCB, criado na *célula* anterior, para criar um fonte em C com uma única instrução no corpo da função main.\n"
      ],
      "metadata": {
        "id": "DLacDEe_OiPS"
      }
    },
    {
      "cell_type": "code",
      "metadata": {
        "id": "QO8Fa3swAdLR",
        "colab": {
          "base_uri": "https://localhost:8080/"
        },
        "outputId": "72bcd674-32a3-47ff-8410-36e48ba7ee36"
      },
      "source": [
        "%%sourceCB \n",
        "{printf( \".\\n Hello World!!!\\n.\");}"
      ],
      "execution_count": 12,
      "outputs": [
        {
          "output_type": "stream",
          "name": "stdout",
          "text": [
            "\n",
            "#include <stdio.h>\n",
            "#include <math.h>\n",
            "#include <limits.h>\n",
            "int main(){{printf( \".\\n Hello World!!!\\n.\");}}"
          ]
        }
      ]
    },
    {
      "cell_type": "markdown",
      "source": [
        "## Compilando o arquivo fonte b.c e rodando o executável a.out"
      ],
      "metadata": {
        "id": "eVBXpw25OTvj"
      }
    },
    {
      "cell_type": "code",
      "source": [
        "!gcc b.c; ./a.out"
      ],
      "metadata": {
        "id": "m_Dlam-uOQtk",
        "outputId": "9352509c-5945-444b-cd00-4bb8f9625da4",
        "colab": {
          "base_uri": "https://localhost:8080/"
        }
      },
      "execution_count": 13,
      "outputs": [
        {
          "output_type": "stream",
          "name": "stdout",
          "text": [
            ".\n",
            " Hello World!!!\n",
            "."
          ]
        }
      ]
    },
    {
      "cell_type": "markdown",
      "source": [
        "## Usando o cell_magic: sourceCB, para criar um fonte em C com uma única instrução no corpo da função main."
      ],
      "metadata": {
        "id": "RzUdd0YXRy_s"
      }
    },
    {
      "cell_type": "code",
      "metadata": {
        "id": "YSFXay5tAvQn",
        "colab": {
          "base_uri": "https://localhost:8080/"
        },
        "outputId": "a2231b57-0885-4bff-a9de-a8dc2bf085b6"
      },
      "source": [
        "%%sourceCB\n",
        "\n",
        "for(int i=0; i<5; i++) {\n",
        "    printf( \"i=%d, \", i);\n",
        "}\n",
        "\n"
      ],
      "execution_count": 14,
      "outputs": [
        {
          "output_type": "stream",
          "name": "stdout",
          "text": [
            "\n",
            "#include <stdio.h>\n",
            "#include <math.h>\n",
            "#include <limits.h>\n",
            "int main(){\n",
            "for(int i=0; i<5; i++) {\n",
            "    printf( \"i=%d, \", i);\n",
            "}\n",
            "}"
          ]
        }
      ]
    },
    {
      "cell_type": "code",
      "source": [
        "%%sourceCB\n",
        "\n",
        "/* function to show bytes in memory, from location start to start+n*/\n",
        "void show_mem_rep(unsigned char *start, int n) {\n",
        " printf(\" sizeof(number) = %d bytes\\n\",n);\n",
        "        for (int i = 0; i < n; i++)\n",
        "                printf(\" :%.2x:\", start[i]);\n",
        "        printf(\"\\n\");\n",
        "}\n",
        "\n",
        "/*Main function to call above function for 0x01234567*/\n",
        "int main() {\n",
        "\n",
        "printf(\" UINT_MAX  = %x\\n\", UINT_MAX);\n",
        "printf(\" UINT_MAX  = %u\\n\", UINT_MAX);\n",
        "printf(\" ULONG_MAX = %lx\\n\", ULONG_MAX);\n",
        "printf(\" ULONG_MAX = %lu\\n\", ULONG_MAX);\n",
        "\n",
        "long A = 0x123456789;\n",
        "printf(\" %lx\\n\", A);\n",
        "show_mem_rep((char *)&A, sizeof(A));\n",
        "\n",
        "{\n",
        "unsigned int B = 0x1234567;\n",
        "printf(\" %x\\n\", B);\n",
        "show_mem_rep((char *)&B, sizeof(B));\n",
        "B = 0x12345; printf(\" %x\\n\", B);\n",
        "show_mem_rep((char *)&B, sizeof(B));\n",
        "B = 0x1234;  printf(\" %x\\n\", B);\n",
        "show_mem_rep((char *)&B, sizeof(B));\n",
        "\n",
        "B = 0xffffffff;\n",
        "printf(\" %x\\n\", B); printf(\" %u\\n\", B);\n",
        "\n",
        "B = (unsigned int) (pow (2, 32)-1);//+0x10000000;\n",
        "printf(\" %x\\n\", B); printf(\" %u\\n\", B);\n",
        "show_mem_rep((unsigned char *)&B, sizeof(B));\n",
        "}\n",
        "return 0;\n",
        "}\n"
      ],
      "metadata": {
        "colab": {
          "base_uri": "https://localhost:8080/"
        },
        "id": "H4r1h6XdY15e",
        "outputId": "55883e4e-5e09-4418-e60f-0cbe3016774f"
      },
      "execution_count": 17,
      "outputs": [
        {
          "output_type": "stream",
          "name": "stdout",
          "text": [
            "\n",
            "#include <stdio.h>\n",
            "#include <math.h>\n",
            "#include <limits.h>\n",
            "\n",
            "/* function to show bytes in memory, from location start to start+n*/\n",
            "void show_mem_rep(unsigned char *start, int n) {\n",
            " printf(\" sizeof(number) = %d bytes\\n\",n);\n",
            "        for (int i = 0; i < n; i++)\n",
            "                printf(\" :%.2x:\", start[i]);\n",
            "        printf(\"\\n\");\n",
            "}\n",
            "\n",
            "/*Main function to call above function for 0x01234567*/\n",
            "int main() {\n",
            "\n",
            "printf(\" UINT_MAX  = %x\\n\", UINT_MAX);\n",
            "printf(\" UINT_MAX  = %u\\n\", UINT_MAX);\n",
            "printf(\" ULONG_MAX = %lx\\n\", ULONG_MAX);\n",
            "printf(\" ULONG_MAX = %lu\\n\", ULONG_MAX);\n",
            "\n",
            "long A = 0x123456789;\n",
            "printf(\" %lx\\n\", A);\n",
            "show_mem_rep((char *)&A, sizeof(A));\n",
            "\n",
            "{\n",
            "unsigned int B = 0x1234567;\n",
            "printf(\" %x\\n\", B);\n",
            "show_mem_rep((char *)&B, sizeof(B));\n",
            "B = 0x12345; printf(\" %x\\n\", B);\n",
            "show_mem_rep((char *)&B, sizeof(B));\n",
            "B = 0x1234;  printf(\" %x\\n\", B);\n",
            "show_mem_rep((char *)&B, sizeof(B));\n",
            "\n",
            "B = 0xffffffff;\n",
            "printf(\" %x\\n\", B); printf(\" %u\\n\", B);\n",
            "\n",
            "B = (unsigned int) (pow (2, 32)-1);//+0x10000000;\n",
            "printf(\" %x\\n\", B); printf(\" %u\\n\", B);\n",
            "show_mem_rep((unsigned char *)&B, sizeof(B));\n",
            "}\n",
            "return 0;\n",
            "}"
          ]
        }
      ]
    },
    {
      "cell_type": "code",
      "source": [
        "!gcc b.c\n",
        "!./a.out"
      ],
      "metadata": {
        "id": "tJNVS6P1Os5K",
        "outputId": "8baa3567-4193-4017-c4fa-8a0035cf804a",
        "colab": {
          "base_uri": "https://localhost:8080/"
        }
      },
      "execution_count": 16,
      "outputs": [
        {
          "output_type": "stream",
          "name": "stdout",
          "text": [
            " UINT_MAX  = ffffffff\n",
            " UINT_MAX  = 4294967295\n",
            " ULONG_MAX = ffffffffffffffff\n",
            " ULONG_MAX = 18446744073709551615\n",
            " 123456789\n",
            " sizeof(number) = 8 bytes\n",
            " :89: :67: :45: :23: :01: :00: :00: :00:\n",
            " 1234567\n",
            " sizeof(number) = 4 bytes\n",
            " :67: :45: :23: :01:\n",
            " 12345\n",
            " sizeof(number) = 4 bytes\n",
            " :45: :23: :01: :00:\n",
            " 1234\n",
            " sizeof(number) = 4 bytes\n",
            " :34: :12: :00: :00:\n",
            " ffffffff\n",
            " 4294967295\n",
            " ffffffff\n",
            " 4294967295\n",
            " sizeof(number) = 4 bytes\n",
            " :ff: :ff: :ff: :ff:\n"
          ]
        }
      ]
    },
    {
      "cell_type": "markdown",
      "metadata": {
        "id": "dLHbCV8z6d6-"
      },
      "source": [
        "## STL"
      ]
    },
    {
      "cell_type": "code",
      "source": [
        "cpp_header = \"\"\"\n",
        "#include <iostream> \n",
        "#include <string>\n",
        "#include <iterator> \n",
        "#include <utility> \n",
        "#include <map>\n",
        "using namespace std;\n",
        "\"\"\""
      ],
      "metadata": {
        "id": "GYMBU_yLS-Fz"
      },
      "execution_count": 31,
      "outputs": []
    },
    {
      "cell_type": "code",
      "source": [
        "@register_cell_magic\n",
        "def sourceCPP(line, cell):\n",
        "  srcN=\"b.cpp\"\n",
        "  if ' main()' not in cell:\n",
        "    cell = \"int main(){\" + cell + \"}\"\n",
        "  with open(srcN, 'w') as f:\n",
        "    f.write(cpp_header + cell)\n",
        "  !cat b.cpp"
      ],
      "metadata": {
        "id": "uV_MzFdXSsfZ"
      },
      "execution_count": 34,
      "outputs": []
    },
    {
      "cell_type": "code",
      "metadata": {
        "id": "rwQmqZa66ZiG",
        "colab": {
          "base_uri": "https://localhost:8080/"
        },
        "outputId": "9effec9c-7d67-48d8-e956-8daf589a3ee0"
      },
      "source": [
        "# pair\n",
        "%%sourceCPP\n",
        "\n",
        "pair <int, char> PAIR1 ; \n",
        "\n",
        "PAIR1.first = 100; \n",
        "PAIR1.second = 'G' ; \n",
        "\n",
        "cout << PAIR1.first << \" \" ; \n",
        "cout << PAIR1.second << endl ;\n",
        "\n",
        "\n"
      ],
      "execution_count": 42,
      "outputs": [
        {
          "output_type": "stream",
          "name": "stdout",
          "text": [
            "\n",
            "#include <iostream> \n",
            "#include <string>\n",
            "#include <iterator> \n",
            "#include <utility> \n",
            "#include <map>\n",
            "using namespace std;\n",
            "int main(){\n",
            "pair <int, char> PAIR1 ; \n",
            "\n",
            "PAIR1.first = 100; \n",
            "PAIR1.second = 'G' ; \n",
            "\n",
            "cout << PAIR1.first << \" \" ; \n",
            "cout << PAIR1.second << endl ;\n",
            "cout << PAIR1 << endl; \n",
            "}"
          ]
        }
      ]
    },
    {
      "cell_type": "code",
      "source": [
        "!echo \"compilando e rodando \" \n",
        "!g++ b.cpp && ./a.out"
      ],
      "metadata": {
        "colab": {
          "base_uri": "https://localhost:8080/"
        },
        "id": "7F8wm8i8TyTp",
        "outputId": "3a76573d-239e-441b-c262-884732120391"
      },
      "execution_count": 43,
      "outputs": [
        {
          "output_type": "stream",
          "name": "stdout",
          "text": [
            "compilando e rodando \n",
            "\u001b[01m\u001b[Kb.cpp:\u001b[m\u001b[K In function ‘\u001b[01m\u001b[Kint main()\u001b[m\u001b[K’:\n",
            "\u001b[01m\u001b[Kb.cpp:16:6:\u001b[m\u001b[K \u001b[01;31m\u001b[Kerror: \u001b[m\u001b[Kno match for ‘\u001b[01m\u001b[Koperator<<\u001b[m\u001b[K’ (operand types are ‘\u001b[01m\u001b[Kstd::ostream {aka std::basic_ostream<char>}\u001b[m\u001b[K’ and ‘\u001b[01m\u001b[Kstd::pair<int, char>\u001b[m\u001b[K’)\n",
            " \u001b[01;31m\u001b[Kcout << PAIR1\u001b[m\u001b[K << endl;\n",
            " \u001b[01;31m\u001b[K~~~~~^~~~~~~~\u001b[m\u001b[K\n",
            "In file included from \u001b[01m\u001b[K/usr/include/c++/7/iostream:39:0\u001b[m\u001b[K,\n",
            "                 from \u001b[01m\u001b[Kb.cpp:2\u001b[m\u001b[K:\n",
            "\u001b[01m\u001b[K/usr/include/c++/7/ostream:108:7:\u001b[m\u001b[K \u001b[01;36m\u001b[Knote: \u001b[m\u001b[Kcandidate: std::basic_ostream<_CharT, _Traits>::__ostream_type& std::basic_ostream<_CharT, _Traits>::operator<<(std::basic_ostream<_CharT, _Traits>::__ostream_type& (*)(std::basic_ostream<_CharT, _Traits>::__ostream_type&)) [with _CharT = char; _Traits = std::char_traits<char>; std::basic_ostream<_CharT, _Traits>::__ostream_type = std::basic_ostream<char>]\n",
            "       \u001b[01;36m\u001b[Koperator\u001b[m\u001b[K<<(__ostream_type& (*__pf)(__ostream_type&))\n",
            "       \u001b[01;36m\u001b[K^~~~~~~~\u001b[m\u001b[K\n",
            "\u001b[01m\u001b[K/usr/include/c++/7/ostream:108:7:\u001b[m\u001b[K \u001b[01;36m\u001b[Knote: \u001b[m\u001b[K  no known conversion for argument 1 from ‘\u001b[01m\u001b[Kstd::pair<int, char>\u001b[m\u001b[K’ to ‘\u001b[01m\u001b[Kstd::basic_ostream<char>::__ostream_type& (*)(std::basic_ostream<char>::__ostream_type&) {aka std::basic_ostream<char>& (*)(std::basic_ostream<char>&)}\u001b[m\u001b[K’\n",
            "\u001b[01m\u001b[K/usr/include/c++/7/ostream:117:7:\u001b[m\u001b[K \u001b[01;36m\u001b[Knote: \u001b[m\u001b[Kcandidate: std::basic_ostream<_CharT, _Traits>::__ostream_type& std::basic_ostream<_CharT, _Traits>::operator<<(std::basic_ostream<_CharT, _Traits>::__ios_type& (*)(std::basic_ostream<_CharT, _Traits>::__ios_type&)) [with _CharT = char; _Traits = std::char_traits<char>; std::basic_ostream<_CharT, _Traits>::__ostream_type = std::basic_ostream<char>; std::basic_ostream<_CharT, _Traits>::__ios_type = std::basic_ios<char>]\n",
            "       \u001b[01;36m\u001b[Koperator\u001b[m\u001b[K<<(__ios_type& (*__pf)(__ios_type&))\n",
            "       \u001b[01;36m\u001b[K^~~~~~~~\u001b[m\u001b[K\n",
            "\u001b[01m\u001b[K/usr/include/c++/7/ostream:117:7:\u001b[m\u001b[K \u001b[01;36m\u001b[Knote: \u001b[m\u001b[K  no known conversion for argument 1 from ‘\u001b[01m\u001b[Kstd::pair<int, char>\u001b[m\u001b[K’ to ‘\u001b[01m\u001b[Kstd::basic_ostream<char>::__ios_type& (*)(std::basic_ostream<char>::__ios_type&) {aka std::basic_ios<char>& (*)(std::basic_ios<char>&)}\u001b[m\u001b[K’\n",
            "\u001b[01m\u001b[K/usr/include/c++/7/ostream:127:7:\u001b[m\u001b[K \u001b[01;36m\u001b[Knote: \u001b[m\u001b[Kcandidate: std::basic_ostream<_CharT, _Traits>::__ostream_type& std::basic_ostream<_CharT, _Traits>::operator<<(std::ios_base& (*)(std::ios_base&)) [with _CharT = char; _Traits = std::char_traits<char>; std::basic_ostream<_CharT, _Traits>::__ostream_type = std::basic_ostream<char>]\n",
            "       \u001b[01;36m\u001b[Koperator\u001b[m\u001b[K<<(ios_base& (*__pf) (ios_base&))\n",
            "       \u001b[01;36m\u001b[K^~~~~~~~\u001b[m\u001b[K\n",
            "\u001b[01m\u001b[K/usr/include/c++/7/ostream:127:7:\u001b[m\u001b[K \u001b[01;36m\u001b[Knote: \u001b[m\u001b[K  no known conversion for argument 1 from ‘\u001b[01m\u001b[Kstd::pair<int, char>\u001b[m\u001b[K’ to ‘\u001b[01m\u001b[Kstd::ios_base& (*)(std::ios_base&)\u001b[m\u001b[K’\n",
            "\u001b[01m\u001b[K/usr/include/c++/7/ostream:166:7:\u001b[m\u001b[K \u001b[01;36m\u001b[Knote: \u001b[m\u001b[Kcandidate: std::basic_ostream<_CharT, _Traits>::__ostream_type& std::basic_ostream<_CharT, _Traits>::operator<<(long int) [with _CharT = char; _Traits = std::char_traits<char>; std::basic_ostream<_CharT, _Traits>::__ostream_type = std::basic_ostream<char>]\n",
            "       \u001b[01;36m\u001b[Koperator\u001b[m\u001b[K<<(long __n)\n",
            "       \u001b[01;36m\u001b[K^~~~~~~~\u001b[m\u001b[K\n",
            "\u001b[01m\u001b[K/usr/include/c++/7/ostream:166:7:\u001b[m\u001b[K \u001b[01;36m\u001b[Knote: \u001b[m\u001b[K  no known conversion for argument 1 from ‘\u001b[01m\u001b[Kstd::pair<int, char>\u001b[m\u001b[K’ to ‘\u001b[01m\u001b[Klong int\u001b[m\u001b[K’\n",
            "\u001b[01m\u001b[K/usr/include/c++/7/ostream:170:7:\u001b[m\u001b[K \u001b[01;36m\u001b[Knote: \u001b[m\u001b[Kcandidate: std::basic_ostream<_CharT, _Traits>::__ostream_type& std::basic_ostream<_CharT, _Traits>::operator<<(long unsigned int) [with _CharT = char; _Traits = std::char_traits<char>; std::basic_ostream<_CharT, _Traits>::__ostream_type = std::basic_ostream<char>]\n",
            "       \u001b[01;36m\u001b[Koperator\u001b[m\u001b[K<<(unsigned long __n)\n",
            "       \u001b[01;36m\u001b[K^~~~~~~~\u001b[m\u001b[K\n",
            "\u001b[01m\u001b[K/usr/include/c++/7/ostream:170:7:\u001b[m\u001b[K \u001b[01;36m\u001b[Knote: \u001b[m\u001b[K  no known conversion for argument 1 from ‘\u001b[01m\u001b[Kstd::pair<int, char>\u001b[m\u001b[K’ to ‘\u001b[01m\u001b[Klong unsigned int\u001b[m\u001b[K’\n",
            "\u001b[01m\u001b[K/usr/include/c++/7/ostream:174:7:\u001b[m\u001b[K \u001b[01;36m\u001b[Knote: \u001b[m\u001b[Kcandidate: std::basic_ostream<_CharT, _Traits>::__ostream_type& std::basic_ostream<_CharT, _Traits>::operator<<(bool) [with _CharT = char; _Traits = std::char_traits<char>; std::basic_ostream<_CharT, _Traits>::__ostream_type = std::basic_ostream<char>]\n",
            "       \u001b[01;36m\u001b[Koperator\u001b[m\u001b[K<<(bool __n)\n",
            "       \u001b[01;36m\u001b[K^~~~~~~~\u001b[m\u001b[K\n",
            "\u001b[01m\u001b[K/usr/include/c++/7/ostream:174:7:\u001b[m\u001b[K \u001b[01;36m\u001b[Knote: \u001b[m\u001b[K  no known conversion for argument 1 from ‘\u001b[01m\u001b[Kstd::pair<int, char>\u001b[m\u001b[K’ to ‘\u001b[01m\u001b[Kbool\u001b[m\u001b[K’\n",
            "In file included from \u001b[01m\u001b[K/usr/include/c++/7/ostream:693:0\u001b[m\u001b[K,\n",
            "                 from \u001b[01m\u001b[K/usr/include/c++/7/iostream:39\u001b[m\u001b[K,\n",
            "                 from \u001b[01m\u001b[Kb.cpp:2\u001b[m\u001b[K:\n",
            "\u001b[01m\u001b[K/usr/include/c++/7/bits/ostream.tcc:91:5:\u001b[m\u001b[K \u001b[01;36m\u001b[Knote: \u001b[m\u001b[Kcandidate: std::basic_ostream<_CharT, _Traits>& std::basic_ostream<_CharT, _Traits>::operator<<(short int) [with _CharT = char; _Traits = std::char_traits<char>]\n",
            "     \u001b[01;36m\u001b[Kbasic_ostream<_CharT, _Traits>\u001b[m\u001b[K::\n",
            "     \u001b[01;36m\u001b[K^~~~~~~~~~~~~~~~~~~~~~~~~~~~~~\u001b[m\u001b[K\n",
            "\u001b[01m\u001b[K/usr/include/c++/7/bits/ostream.tcc:91:5:\u001b[m\u001b[K \u001b[01;36m\u001b[Knote: \u001b[m\u001b[K  no known conversion for argument 1 from ‘\u001b[01m\u001b[Kstd::pair<int, char>\u001b[m\u001b[K’ to ‘\u001b[01m\u001b[Kshort int\u001b[m\u001b[K’\n",
            "In file included from \u001b[01m\u001b[K/usr/include/c++/7/iostream:39:0\u001b[m\u001b[K,\n",
            "                 from \u001b[01m\u001b[Kb.cpp:2\u001b[m\u001b[K:\n",
            "\u001b[01m\u001b[K/usr/include/c++/7/ostream:181:7:\u001b[m\u001b[K \u001b[01;36m\u001b[Knote: \u001b[m\u001b[Kcandidate: std::basic_ostream<_CharT, _Traits>::__ostream_type& std::basic_ostream<_CharT, _Traits>::operator<<(short unsigned int) [with _CharT = char; _Traits = std::char_traits<char>; std::basic_ostream<_CharT, _Traits>::__ostream_type = std::basic_ostream<char>]\n",
            "       \u001b[01;36m\u001b[Koperator\u001b[m\u001b[K<<(unsigned short __n)\n",
            "       \u001b[01;36m\u001b[K^~~~~~~~\u001b[m\u001b[K\n",
            "\u001b[01m\u001b[K/usr/include/c++/7/ostream:181:7:\u001b[m\u001b[K \u001b[01;36m\u001b[Knote: \u001b[m\u001b[K  no known conversion for argument 1 from ‘\u001b[01m\u001b[Kstd::pair<int, char>\u001b[m\u001b[K’ to ‘\u001b[01m\u001b[Kshort unsigned int\u001b[m\u001b[K’\n",
            "In file included from \u001b[01m\u001b[K/usr/include/c++/7/ostream:693:0\u001b[m\u001b[K,\n",
            "                 from \u001b[01m\u001b[K/usr/include/c++/7/iostream:39\u001b[m\u001b[K,\n",
            "                 from \u001b[01m\u001b[Kb.cpp:2\u001b[m\u001b[K:\n",
            "\u001b[01m\u001b[K/usr/include/c++/7/bits/ostream.tcc:105:5:\u001b[m\u001b[K \u001b[01;36m\u001b[Knote: \u001b[m\u001b[Kcandidate: std::basic_ostream<_CharT, _Traits>& std::basic_ostream<_CharT, _Traits>::operator<<(int) [with _CharT = char; _Traits = std::char_traits<char>]\n",
            "     \u001b[01;36m\u001b[Kbasic_ostream<_CharT, _Traits>\u001b[m\u001b[K::\n",
            "     \u001b[01;36m\u001b[K^~~~~~~~~~~~~~~~~~~~~~~~~~~~~~\u001b[m\u001b[K\n",
            "\u001b[01m\u001b[K/usr/include/c++/7/bits/ostream.tcc:105:5:\u001b[m\u001b[K \u001b[01;36m\u001b[Knote: \u001b[m\u001b[K  no known conversion for argument 1 from ‘\u001b[01m\u001b[Kstd::pair<int, char>\u001b[m\u001b[K’ to ‘\u001b[01m\u001b[Kint\u001b[m\u001b[K’\n",
            "In file included from \u001b[01m\u001b[K/usr/include/c++/7/iostream:39:0\u001b[m\u001b[K,\n",
            "                 from \u001b[01m\u001b[Kb.cpp:2\u001b[m\u001b[K:\n",
            "\u001b[01m\u001b[K/usr/include/c++/7/ostream:192:7:\u001b[m\u001b[K \u001b[01;36m\u001b[Knote: \u001b[m\u001b[Kcandidate: std::basic_ostream<_CharT, _Traits>::__ostream_type& std::basic_ostream<_CharT, _Traits>::operator<<(unsigned int) [with _CharT = char; _Traits = std::char_traits<char>; std::basic_ostream<_CharT, _Traits>::__ostream_type = std::basic_ostream<char>]\n",
            "       \u001b[01;36m\u001b[Koperator\u001b[m\u001b[K<<(unsigned int __n)\n",
            "       \u001b[01;36m\u001b[K^~~~~~~~\u001b[m\u001b[K\n",
            "\u001b[01m\u001b[K/usr/include/c++/7/ostream:192:7:\u001b[m\u001b[K \u001b[01;36m\u001b[Knote: \u001b[m\u001b[K  no known conversion for argument 1 from ‘\u001b[01m\u001b[Kstd::pair<int, char>\u001b[m\u001b[K’ to ‘\u001b[01m\u001b[Kunsigned int\u001b[m\u001b[K’\n",
            "\u001b[01m\u001b[K/usr/include/c++/7/ostream:201:7:\u001b[m\u001b[K \u001b[01;36m\u001b[Knote: \u001b[m\u001b[Kcandidate: std::basic_ostream<_CharT, _Traits>::__ostream_type& std::basic_ostream<_CharT, _Traits>::operator<<(long long int) [with _CharT = char; _Traits = std::char_traits<char>; std::basic_ostream<_CharT, _Traits>::__ostream_type = std::basic_ostream<char>]\n",
            "       \u001b[01;36m\u001b[Koperator\u001b[m\u001b[K<<(long long __n)\n",
            "       \u001b[01;36m\u001b[K^~~~~~~~\u001b[m\u001b[K\n",
            "\u001b[01m\u001b[K/usr/include/c++/7/ostream:201:7:\u001b[m\u001b[K \u001b[01;36m\u001b[Knote: \u001b[m\u001b[K  no known conversion for argument 1 from ‘\u001b[01m\u001b[Kstd::pair<int, char>\u001b[m\u001b[K’ to ‘\u001b[01m\u001b[Klong long int\u001b[m\u001b[K’\n",
            "\u001b[01m\u001b[K/usr/include/c++/7/ostream:205:7:\u001b[m\u001b[K \u001b[01;36m\u001b[Knote: \u001b[m\u001b[Kcandidate: std::basic_ostream<_CharT, _Traits>::__ostream_type& std::basic_ostream<_CharT, _Traits>::operator<<(long long unsigned int) [with _CharT = char; _Traits = std::char_traits<char>; std::basic_ostream<_CharT, _Traits>::__ostream_type = std::basic_ostream<char>]\n",
            "       \u001b[01;36m\u001b[Koperator\u001b[m\u001b[K<<(unsigned long long __n)\n",
            "       \u001b[01;36m\u001b[K^~~~~~~~\u001b[m\u001b[K\n",
            "\u001b[01m\u001b[K/usr/include/c++/7/ostream:205:7:\u001b[m\u001b[K \u001b[01;36m\u001b[Knote: \u001b[m\u001b[K  no known conversion for argument 1 from ‘\u001b[01m\u001b[Kstd::pair<int, char>\u001b[m\u001b[K’ to ‘\u001b[01m\u001b[Klong long unsigned int\u001b[m\u001b[K’\n",
            "\u001b[01m\u001b[K/usr/include/c++/7/ostream:220:7:\u001b[m\u001b[K \u001b[01;36m\u001b[Knote: \u001b[m\u001b[Kcandidate: std::basic_ostream<_CharT, _Traits>::__ostream_type& std::basic_ostream<_CharT, _Traits>::operator<<(double) [with _CharT = char; _Traits = std::char_traits<char>; std::basic_ostream<_CharT, _Traits>::__ostream_type = std::basic_ostream<char>]\n",
            "       \u001b[01;36m\u001b[Koperator\u001b[m\u001b[K<<(double __f)\n",
            "       \u001b[01;36m\u001b[K^~~~~~~~\u001b[m\u001b[K\n",
            "\u001b[01m\u001b[K/usr/include/c++/7/ostream:220:7:\u001b[m\u001b[K \u001b[01;36m\u001b[Knote: \u001b[m\u001b[K  no known conversion for argument 1 from ‘\u001b[01m\u001b[Kstd::pair<int, char>\u001b[m\u001b[K’ to ‘\u001b[01m\u001b[Kdouble\u001b[m\u001b[K’\n",
            "\u001b[01m\u001b[K/usr/include/c++/7/ostream:224:7:\u001b[m\u001b[K \u001b[01;36m\u001b[Knote: \u001b[m\u001b[Kcandidate: std::basic_ostream<_CharT, _Traits>::__ostream_type& std::basic_ostream<_CharT, _Traits>::operator<<(float) [with _CharT = char; _Traits = std::char_traits<char>; std::basic_ostream<_CharT, _Traits>::__ostream_type = std::basic_ostream<char>]\n",
            "       \u001b[01;36m\u001b[Koperator\u001b[m\u001b[K<<(float __f)\n",
            "       \u001b[01;36m\u001b[K^~~~~~~~\u001b[m\u001b[K\n",
            "\u001b[01m\u001b[K/usr/include/c++/7/ostream:224:7:\u001b[m\u001b[K \u001b[01;36m\u001b[Knote: \u001b[m\u001b[K  no known conversion for argument 1 from ‘\u001b[01m\u001b[Kstd::pair<int, char>\u001b[m\u001b[K’ to ‘\u001b[01m\u001b[Kfloat\u001b[m\u001b[K’\n",
            "\u001b[01m\u001b[K/usr/include/c++/7/ostream:232:7:\u001b[m\u001b[K \u001b[01;36m\u001b[Knote: \u001b[m\u001b[Kcandidate: std::basic_ostream<_CharT, _Traits>::__ostream_type& std::basic_ostream<_CharT, _Traits>::operator<<(long double) [with _CharT = char; _Traits = std::char_traits<char>; std::basic_ostream<_CharT, _Traits>::__ostream_type = std::basic_ostream<char>]\n",
            "       \u001b[01;36m\u001b[Koperator\u001b[m\u001b[K<<(long double __f)\n",
            "       \u001b[01;36m\u001b[K^~~~~~~~\u001b[m\u001b[K\n",
            "\u001b[01m\u001b[K/usr/include/c++/7/ostream:232:7:\u001b[m\u001b[K \u001b[01;36m\u001b[Knote: \u001b[m\u001b[K  no known conversion for argument 1 from ‘\u001b[01m\u001b[Kstd::pair<int, char>\u001b[m\u001b[K’ to ‘\u001b[01m\u001b[Klong double\u001b[m\u001b[K’\n",
            "\u001b[01m\u001b[K/usr/include/c++/7/ostream:245:7:\u001b[m\u001b[K \u001b[01;36m\u001b[Knote: \u001b[m\u001b[Kcandidate: std::basic_ostream<_CharT, _Traits>::__ostream_type& std::basic_ostream<_CharT, _Traits>::operator<<(const void*) [with _CharT = char; _Traits = std::char_traits<char>; std::basic_ostream<_CharT, _Traits>::__ostream_type = std::basic_ostream<char>]\n",
            "       \u001b[01;36m\u001b[Koperator\u001b[m\u001b[K<<(const void* __p)\n",
            "       \u001b[01;36m\u001b[K^~~~~~~~\u001b[m\u001b[K\n",
            "\u001b[01m\u001b[K/usr/include/c++/7/ostream:245:7:\u001b[m\u001b[K \u001b[01;36m\u001b[Knote: \u001b[m\u001b[K  no known conversion for argument 1 from ‘\u001b[01m\u001b[Kstd::pair<int, char>\u001b[m\u001b[K’ to ‘\u001b[01m\u001b[Kconst void*\u001b[m\u001b[K’\n",
            "In file included from \u001b[01m\u001b[K/usr/include/c++/7/ostream:693:0\u001b[m\u001b[K,\n",
            "                 from \u001b[01m\u001b[K/usr/include/c++/7/iostream:39\u001b[m\u001b[K,\n",
            "                 from \u001b[01m\u001b[Kb.cpp:2\u001b[m\u001b[K:\n",
            "\u001b[01m\u001b[K/usr/include/c++/7/bits/ostream.tcc:119:5:\u001b[m\u001b[K \u001b[01;36m\u001b[Knote: \u001b[m\u001b[Kcandidate: std::basic_ostream<_CharT, _Traits>& std::basic_ostream<_CharT, _Traits>::operator<<(std::basic_ostream<_CharT, _Traits>::__streambuf_type*) [with _CharT = char; _Traits = std::char_traits<char>; std::basic_ostream<_CharT, _Traits>::__streambuf_type = std::basic_streambuf<char>]\n",
            "     \u001b[01;36m\u001b[Kbasic_ostream<_CharT, _Traits>\u001b[m\u001b[K::\n",
            "     \u001b[01;36m\u001b[K^~~~~~~~~~~~~~~~~~~~~~~~~~~~~~\u001b[m\u001b[K\n",
            "\u001b[01m\u001b[K/usr/include/c++/7/bits/ostream.tcc:119:5:\u001b[m\u001b[K \u001b[01;36m\u001b[Knote: \u001b[m\u001b[K  no known conversion for argument 1 from ‘\u001b[01m\u001b[Kstd::pair<int, char>\u001b[m\u001b[K’ to ‘\u001b[01m\u001b[Kstd::basic_ostream<char>::__streambuf_type* {aka std::basic_streambuf<char>*}\u001b[m\u001b[K’\n",
            "In file included from \u001b[01m\u001b[K/usr/include/c++/7/string:52:0\u001b[m\u001b[K,\n",
            "                 from \u001b[01m\u001b[K/usr/include/c++/7/bits/locale_classes.h:40\u001b[m\u001b[K,\n",
            "                 from \u001b[01m\u001b[K/usr/include/c++/7/bits/ios_base.h:41\u001b[m\u001b[K,\n",
            "                 from \u001b[01m\u001b[K/usr/include/c++/7/ios:42\u001b[m\u001b[K,\n",
            "                 from \u001b[01m\u001b[K/usr/include/c++/7/ostream:38\u001b[m\u001b[K,\n",
            "                 from \u001b[01m\u001b[K/usr/include/c++/7/iostream:39\u001b[m\u001b[K,\n",
            "                 from \u001b[01m\u001b[Kb.cpp:2\u001b[m\u001b[K:\n",
            "\u001b[01m\u001b[K/usr/include/c++/7/bits/basic_string.h:6284:5:\u001b[m\u001b[K \u001b[01;36m\u001b[Knote: \u001b[m\u001b[Kcandidate: template<class _CharT, class _Traits, class _Alloc> std::basic_ostream<_CharT, _Traits>& std::operator<<(std::basic_ostream<_CharT, _Traits>&, const std::__cxx11::basic_string<_CharT, _Traits, _Alloc>&)\n",
            "     \u001b[01;36m\u001b[Koperator\u001b[m\u001b[K<<(basic_ostream<_CharT, _Traits>& __os,\n",
            "     \u001b[01;36m\u001b[K^~~~~~~~\u001b[m\u001b[K\n",
            "\u001b[01m\u001b[K/usr/include/c++/7/bits/basic_string.h:6284:5:\u001b[m\u001b[K \u001b[01;36m\u001b[Knote: \u001b[m\u001b[K  template argument deduction/substitution failed:\n",
            "\u001b[01m\u001b[Kb.cpp:16:9:\u001b[m\u001b[K \u001b[01;36m\u001b[Knote: \u001b[m\u001b[K  ‘\u001b[01m\u001b[Kstd::pair<int, char>\u001b[m\u001b[K’ is not derived from ‘\u001b[01m\u001b[Kconst std::__cxx11::basic_string<_CharT, _Traits, _Alloc>\u001b[m\u001b[K’\n",
            " cout << \u001b[01;36m\u001b[KPAIR1\u001b[m\u001b[K << endl;\n",
            "         \u001b[01;36m\u001b[K^~~~~\u001b[m\u001b[K\n",
            "In file included from \u001b[01m\u001b[K/usr/include/c++/7/bits/ios_base.h:46:0\u001b[m\u001b[K,\n",
            "                 from \u001b[01m\u001b[K/usr/include/c++/7/ios:42\u001b[m\u001b[K,\n",
            "                 from \u001b[01m\u001b[K/usr/include/c++/7/ostream:38\u001b[m\u001b[K,\n",
            "                 from \u001b[01m\u001b[K/usr/include/c++/7/iostream:39\u001b[m\u001b[K,\n",
            "                 from \u001b[01m\u001b[Kb.cpp:2\u001b[m\u001b[K:\n",
            "\u001b[01m\u001b[K/usr/include/c++/7/system_error:217:5:\u001b[m\u001b[K \u001b[01;36m\u001b[Knote: \u001b[m\u001b[Kcandidate: template<class _CharT, class _Traits> std::basic_ostream<_CharT, _Traits>& std::operator<<(std::basic_ostream<_CharT, _Traits>&, const std::error_code&)\n",
            "     \u001b[01;36m\u001b[Koperator\u001b[m\u001b[K<<(basic_ostream<_CharT, _Traits>& __os, const error_code& __e)\n",
            "     \u001b[01;36m\u001b[K^~~~~~~~\u001b[m\u001b[K\n",
            "\u001b[01m\u001b[K/usr/include/c++/7/system_error:217:5:\u001b[m\u001b[K \u001b[01;36m\u001b[Knote: \u001b[m\u001b[K  template argument deduction/substitution failed:\n",
            "\u001b[01m\u001b[Kb.cpp:16:9:\u001b[m\u001b[K \u001b[01;36m\u001b[Knote: \u001b[m\u001b[K  cannot convert ‘\u001b[01m\u001b[KPAIR1\u001b[m\u001b[K’ (type ‘\u001b[01m\u001b[Kstd::pair<int, char>\u001b[m\u001b[K’) to type ‘\u001b[01m\u001b[Kconst std::error_code&\u001b[m\u001b[K’\n",
            " cout << \u001b[01;36m\u001b[KPAIR1\u001b[m\u001b[K << endl;\n",
            "         \u001b[01;36m\u001b[K^~~~~\u001b[m\u001b[K\n",
            "In file included from \u001b[01m\u001b[K/usr/include/c++/7/iostream:39:0\u001b[m\u001b[K,\n",
            "                 from \u001b[01m\u001b[Kb.cpp:2\u001b[m\u001b[K:\n",
            "\u001b[01m\u001b[K/usr/include/c++/7/ostream:497:5:\u001b[m\u001b[K \u001b[01;36m\u001b[Knote: \u001b[m\u001b[Kcandidate: template<class _CharT, class _Traits> std::basic_ostream<_CharT, _Traits>& std::operator<<(std::basic_ostream<_CharT, _Traits>&, _CharT)\n",
            "     \u001b[01;36m\u001b[Koperator\u001b[m\u001b[K<<(basic_ostream<_CharT, _Traits>& __out, _CharT __c)\n",
            "     \u001b[01;36m\u001b[K^~~~~~~~\u001b[m\u001b[K\n",
            "\u001b[01m\u001b[K/usr/include/c++/7/ostream:497:5:\u001b[m\u001b[K \u001b[01;36m\u001b[Knote: \u001b[m\u001b[K  template argument deduction/substitution failed:\n",
            "\u001b[01m\u001b[Kb.cpp:16:9:\u001b[m\u001b[K \u001b[01;36m\u001b[Knote: \u001b[m\u001b[K  deduced conflicting types for parameter ‘\u001b[01m\u001b[K_CharT\u001b[m\u001b[K’ (‘\u001b[01m\u001b[Kchar\u001b[m\u001b[K’ and ‘\u001b[01m\u001b[Kstd::pair<int, char>\u001b[m\u001b[K’)\n",
            " cout << \u001b[01;36m\u001b[KPAIR1\u001b[m\u001b[K << endl;\n",
            "         \u001b[01;36m\u001b[K^~~~~\u001b[m\u001b[K\n",
            "In file included from \u001b[01m\u001b[K/usr/include/c++/7/iostream:39:0\u001b[m\u001b[K,\n",
            "                 from \u001b[01m\u001b[Kb.cpp:2\u001b[m\u001b[K:\n",
            "\u001b[01m\u001b[K/usr/include/c++/7/ostream:502:5:\u001b[m\u001b[K \u001b[01;36m\u001b[Knote: \u001b[m\u001b[Kcandidate: template<class _CharT, class _Traits> std::basic_ostream<_CharT, _Traits>& std::operator<<(std::basic_ostream<_CharT, _Traits>&, char)\n",
            "     \u001b[01;36m\u001b[Koperator\u001b[m\u001b[K<<(basic_ostream<_CharT, _Traits>& __out, char __c)\n",
            "     \u001b[01;36m\u001b[K^~~~~~~~\u001b[m\u001b[K\n",
            "\u001b[01m\u001b[K/usr/include/c++/7/ostream:502:5:\u001b[m\u001b[K \u001b[01;36m\u001b[Knote: \u001b[m\u001b[K  template argument deduction/substitution failed:\n",
            "\u001b[01m\u001b[Kb.cpp:16:9:\u001b[m\u001b[K \u001b[01;36m\u001b[Knote: \u001b[m\u001b[K  cannot convert ‘\u001b[01m\u001b[KPAIR1\u001b[m\u001b[K’ (type ‘\u001b[01m\u001b[Kstd::pair<int, char>\u001b[m\u001b[K’) to type ‘\u001b[01m\u001b[Kchar\u001b[m\u001b[K’\n",
            " cout << \u001b[01;36m\u001b[KPAIR1\u001b[m\u001b[K << endl;\n",
            "         \u001b[01;36m\u001b[K^~~~~\u001b[m\u001b[K\n",
            "In file included from \u001b[01m\u001b[K/usr/include/c++/7/iostream:39:0\u001b[m\u001b[K,\n",
            "                 from \u001b[01m\u001b[Kb.cpp:2\u001b[m\u001b[K:\n",
            "\u001b[01m\u001b[K/usr/include/c++/7/ostream:508:5:\u001b[m\u001b[K \u001b[01;36m\u001b[Knote: \u001b[m\u001b[Kcandidate: template<class _Traits> std::basic_ostream<char, _Traits>& std::operator<<(std::basic_ostream<char, _Traits>&, char)\n",
            "     \u001b[01;36m\u001b[Koperator\u001b[m\u001b[K<<(basic_ostream<char, _Traits>& __out, char __c)\n",
            "     \u001b[01;36m\u001b[K^~~~~~~~\u001b[m\u001b[K\n",
            "\u001b[01m\u001b[K/usr/include/c++/7/ostream:508:5:\u001b[m\u001b[K \u001b[01;36m\u001b[Knote: \u001b[m\u001b[K  template argument deduction/substitution failed:\n",
            "\u001b[01m\u001b[Kb.cpp:16:9:\u001b[m\u001b[K \u001b[01;36m\u001b[Knote: \u001b[m\u001b[K  cannot convert ‘\u001b[01m\u001b[KPAIR1\u001b[m\u001b[K’ (type ‘\u001b[01m\u001b[Kstd::pair<int, char>\u001b[m\u001b[K’) to type ‘\u001b[01m\u001b[Kchar\u001b[m\u001b[K’\n",
            " cout << \u001b[01;36m\u001b[KPAIR1\u001b[m\u001b[K << endl;\n",
            "         \u001b[01;36m\u001b[K^~~~~\u001b[m\u001b[K\n",
            "In file included from \u001b[01m\u001b[K/usr/include/c++/7/iostream:39:0\u001b[m\u001b[K,\n",
            "                 from \u001b[01m\u001b[Kb.cpp:2\u001b[m\u001b[K:\n",
            "\u001b[01m\u001b[K/usr/include/c++/7/ostream:514:5:\u001b[m\u001b[K \u001b[01;36m\u001b[Knote: \u001b[m\u001b[Kcandidate: template<class _Traits> std::basic_ostream<char, _Traits>& std::operator<<(std::basic_ostream<char, _Traits>&, signed char)\n",
            "     \u001b[01;36m\u001b[Koperator\u001b[m\u001b[K<<(basic_ostream<char, _Traits>& __out, signed char __c)\n",
            "     \u001b[01;36m\u001b[K^~~~~~~~\u001b[m\u001b[K\n",
            "\u001b[01m\u001b[K/usr/include/c++/7/ostream:514:5:\u001b[m\u001b[K \u001b[01;36m\u001b[Knote: \u001b[m\u001b[K  template argument deduction/substitution failed:\n",
            "\u001b[01m\u001b[Kb.cpp:16:9:\u001b[m\u001b[K \u001b[01;36m\u001b[Knote: \u001b[m\u001b[K  cannot convert ‘\u001b[01m\u001b[KPAIR1\u001b[m\u001b[K’ (type ‘\u001b[01m\u001b[Kstd::pair<int, char>\u001b[m\u001b[K’) to type ‘\u001b[01m\u001b[Ksigned char\u001b[m\u001b[K’\n",
            " cout << \u001b[01;36m\u001b[KPAIR1\u001b[m\u001b[K << endl;\n",
            "         \u001b[01;36m\u001b[K^~~~~\u001b[m\u001b[K\n",
            "In file included from \u001b[01m\u001b[K/usr/include/c++/7/iostream:39:0\u001b[m\u001b[K,\n",
            "                 from \u001b[01m\u001b[Kb.cpp:2\u001b[m\u001b[K:\n",
            "\u001b[01m\u001b[K/usr/include/c++/7/ostream:519:5:\u001b[m\u001b[K \u001b[01;36m\u001b[Knote: \u001b[m\u001b[Kcandidate: template<class _Traits> std::basic_ostream<char, _Traits>& std::operator<<(std::basic_ostream<char, _Traits>&, unsigned char)\n",
            "     \u001b[01;36m\u001b[Koperator\u001b[m\u001b[K<<(basic_ostream<char, _Traits>& __out, unsigned char __c)\n",
            "     \u001b[01;36m\u001b[K^~~~~~~~\u001b[m\u001b[K\n",
            "\u001b[01m\u001b[K/usr/include/c++/7/ostream:519:5:\u001b[m\u001b[K \u001b[01;36m\u001b[Knote: \u001b[m\u001b[K  template argument deduction/substitution failed:\n",
            "\u001b[01m\u001b[Kb.cpp:16:9:\u001b[m\u001b[K \u001b[01;36m\u001b[Knote: \u001b[m\u001b[K  cannot convert ‘\u001b[01m\u001b[KPAIR1\u001b[m\u001b[K’ (type ‘\u001b[01m\u001b[Kstd::pair<int, char>\u001b[m\u001b[K’) to type ‘\u001b[01m\u001b[Kunsigned char\u001b[m\u001b[K’\n",
            " cout << \u001b[01;36m\u001b[KPAIR1\u001b[m\u001b[K << endl;\n",
            "         \u001b[01;36m\u001b[K^~~~~\u001b[m\u001b[K\n",
            "In file included from \u001b[01m\u001b[K/usr/include/c++/7/iostream:39:0\u001b[m\u001b[K,\n",
            "                 from \u001b[01m\u001b[Kb.cpp:2\u001b[m\u001b[K:\n",
            "\u001b[01m\u001b[K/usr/include/c++/7/ostream:539:5:\u001b[m\u001b[K \u001b[01;36m\u001b[Knote: \u001b[m\u001b[Kcandidate: template<class _CharT, class _Traits> std::basic_ostream<_CharT, _Traits>& std::operator<<(std::basic_ostream<_CharT, _Traits>&, const _CharT*)\n",
            "     \u001b[01;36m\u001b[Koperator\u001b[m\u001b[K<<(basic_ostream<_CharT, _Traits>& __out, const _CharT* __s)\n",
            "     \u001b[01;36m\u001b[K^~~~~~~~\u001b[m\u001b[K\n",
            "\u001b[01m\u001b[K/usr/include/c++/7/ostream:539:5:\u001b[m\u001b[K \u001b[01;36m\u001b[Knote: \u001b[m\u001b[K  template argument deduction/substitution failed:\n",
            "\u001b[01m\u001b[Kb.cpp:16:9:\u001b[m\u001b[K \u001b[01;36m\u001b[Knote: \u001b[m\u001b[K  mismatched types ‘\u001b[01m\u001b[Kconst _CharT*\u001b[m\u001b[K’ and ‘\u001b[01m\u001b[Kstd::pair<int, char>\u001b[m\u001b[K’\n",
            " cout << \u001b[01;36m\u001b[KPAIR1\u001b[m\u001b[K << endl;\n",
            "         \u001b[01;36m\u001b[K^~~~~\u001b[m\u001b[K\n",
            "In file included from \u001b[01m\u001b[K/usr/include/c++/7/ostream:693:0\u001b[m\u001b[K,\n",
            "                 from \u001b[01m\u001b[K/usr/include/c++/7/iostream:39\u001b[m\u001b[K,\n",
            "                 from \u001b[01m\u001b[Kb.cpp:2\u001b[m\u001b[K:\n",
            "\u001b[01m\u001b[K/usr/include/c++/7/bits/ostream.tcc:321:5:\u001b[m\u001b[K \u001b[01;36m\u001b[Knote: \u001b[m\u001b[Kcandidate: template<class _CharT, class _Traits> std::basic_ostream<_CharT, _Traits>& std::operator<<(std::basic_ostream<_CharT, _Traits>&, const char*)\n",
            "     \u001b[01;36m\u001b[Koperator\u001b[m\u001b[K<<(basic_ostream<_CharT, _Traits>& __out, const char* __s)\n",
            "     \u001b[01;36m\u001b[K^~~~~~~~\u001b[m\u001b[K\n",
            "\u001b[01m\u001b[K/usr/include/c++/7/bits/ostream.tcc:321:5:\u001b[m\u001b[K \u001b[01;36m\u001b[Knote: \u001b[m\u001b[K  template argument deduction/substitution failed:\n",
            "\u001b[01m\u001b[Kb.cpp:16:9:\u001b[m\u001b[K \u001b[01;36m\u001b[Knote: \u001b[m\u001b[K  cannot convert ‘\u001b[01m\u001b[KPAIR1\u001b[m\u001b[K’ (type ‘\u001b[01m\u001b[Kstd::pair<int, char>\u001b[m\u001b[K’) to type ‘\u001b[01m\u001b[Kconst char*\u001b[m\u001b[K’\n",
            " cout << \u001b[01;36m\u001b[KPAIR1\u001b[m\u001b[K << endl;\n",
            "         \u001b[01;36m\u001b[K^~~~~\u001b[m\u001b[K\n",
            "In file included from \u001b[01m\u001b[K/usr/include/c++/7/iostream:39:0\u001b[m\u001b[K,\n",
            "                 from \u001b[01m\u001b[Kb.cpp:2\u001b[m\u001b[K:\n",
            "\u001b[01m\u001b[K/usr/include/c++/7/ostream:556:5:\u001b[m\u001b[K \u001b[01;36m\u001b[Knote: \u001b[m\u001b[Kcandidate: template<class _Traits> std::basic_ostream<char, _Traits>& std::operator<<(std::basic_ostream<char, _Traits>&, const char*)\n",
            "     \u001b[01;36m\u001b[Koperator\u001b[m\u001b[K<<(basic_ostream<char, _Traits>& __out, const char* __s)\n",
            "     \u001b[01;36m\u001b[K^~~~~~~~\u001b[m\u001b[K\n",
            "\u001b[01m\u001b[K/usr/include/c++/7/ostream:556:5:\u001b[m\u001b[K \u001b[01;36m\u001b[Knote: \u001b[m\u001b[K  template argument deduction/substitution failed:\n",
            "\u001b[01m\u001b[Kb.cpp:16:9:\u001b[m\u001b[K \u001b[01;36m\u001b[Knote: \u001b[m\u001b[K  cannot convert ‘\u001b[01m\u001b[KPAIR1\u001b[m\u001b[K’ (type ‘\u001b[01m\u001b[Kstd::pair<int, char>\u001b[m\u001b[K’) to type ‘\u001b[01m\u001b[Kconst char*\u001b[m\u001b[K’\n",
            " cout << \u001b[01;36m\u001b[KPAIR1\u001b[m\u001b[K << endl;\n",
            "         \u001b[01;36m\u001b[K^~~~~\u001b[m\u001b[K\n",
            "In file included from \u001b[01m\u001b[K/usr/include/c++/7/iostream:39:0\u001b[m\u001b[K,\n",
            "                 from \u001b[01m\u001b[Kb.cpp:2\u001b[m\u001b[K:\n",
            "\u001b[01m\u001b[K/usr/include/c++/7/ostream:569:5:\u001b[m\u001b[K \u001b[01;36m\u001b[Knote: \u001b[m\u001b[Kcandidate: template<class _Traits> std::basic_ostream<char, _Traits>& std::operator<<(std::basic_ostream<char, _Traits>&, const signed char*)\n",
            "     \u001b[01;36m\u001b[Koperator\u001b[m\u001b[K<<(basic_ostream<char, _Traits>& __out, const signed char* __s)\n",
            "     \u001b[01;36m\u001b[K^~~~~~~~\u001b[m\u001b[K\n",
            "\u001b[01m\u001b[K/usr/include/c++/7/ostream:569:5:\u001b[m\u001b[K \u001b[01;36m\u001b[Knote: \u001b[m\u001b[K  template argument deduction/substitution failed:\n",
            "\u001b[01m\u001b[Kb.cpp:16:9:\u001b[m\u001b[K \u001b[01;36m\u001b[Knote: \u001b[m\u001b[K  cannot convert ‘\u001b[01m\u001b[KPAIR1\u001b[m\u001b[K’ (type ‘\u001b[01m\u001b[Kstd::pair<int, char>\u001b[m\u001b[K’) to type ‘\u001b[01m\u001b[Kconst signed char*\u001b[m\u001b[K’\n",
            " cout << \u001b[01;36m\u001b[KPAIR1\u001b[m\u001b[K << endl;\n",
            "         \u001b[01;36m\u001b[K^~~~~\u001b[m\u001b[K\n",
            "In file included from \u001b[01m\u001b[K/usr/include/c++/7/iostream:39:0\u001b[m\u001b[K,\n",
            "                 from \u001b[01m\u001b[Kb.cpp:2\u001b[m\u001b[K:\n",
            "\u001b[01m\u001b[K/usr/include/c++/7/ostream:574:5:\u001b[m\u001b[K \u001b[01;36m\u001b[Knote: \u001b[m\u001b[Kcandidate: template<class _Traits> std::basic_ostream<char, _Traits>& std::operator<<(std::basic_ostream<char, _Traits>&, const unsigned char*)\n",
            "     \u001b[01;36m\u001b[Koperator\u001b[m\u001b[K<<(basic_ostream<char, _Traits>& __out, const unsigned char* __s)\n",
            "     \u001b[01;36m\u001b[K^~~~~~~~\u001b[m\u001b[K\n",
            "\u001b[01m\u001b[K/usr/include/c++/7/ostream:574:5:\u001b[m\u001b[K \u001b[01;36m\u001b[Knote: \u001b[m\u001b[K  template argument deduction/substitution failed:\n",
            "\u001b[01m\u001b[Kb.cpp:16:9:\u001b[m\u001b[K \u001b[01;36m\u001b[Knote: \u001b[m\u001b[K  cannot convert ‘\u001b[01m\u001b[KPAIR1\u001b[m\u001b[K’ (type ‘\u001b[01m\u001b[Kstd::pair<int, char>\u001b[m\u001b[K’) to type ‘\u001b[01m\u001b[Kconst unsigned char*\u001b[m\u001b[K’\n",
            " cout << \u001b[01;36m\u001b[KPAIR1\u001b[m\u001b[K << endl;\n",
            "         \u001b[01;36m\u001b[K^~~~~\u001b[m\u001b[K\n",
            "In file included from \u001b[01m\u001b[K/usr/include/c++/7/iostream:39:0\u001b[m\u001b[K,\n",
            "                 from \u001b[01m\u001b[Kb.cpp:2\u001b[m\u001b[K:\n",
            "\u001b[01m\u001b[K/usr/include/c++/7/ostream:682:5:\u001b[m\u001b[K \u001b[01;36m\u001b[Knote: \u001b[m\u001b[Kcandidate: template<class _Ostream, class _Tp> typename std::enable_if<std::__and_<std::__not_<std::is_lvalue_reference<_Tp> >, std::__is_convertible_to_basic_ostream<_Ostream>, std::__is_insertable<typename std::__is_convertible_to_basic_ostream<_Tp>::__ostream_type, const _Tp&, void> >::value, typename std::__is_convertible_to_basic_ostream<_Tp>::__ostream_type>::type std::operator<<(_Ostream&&, const _Tp&)\n",
            "     \u001b[01;36m\u001b[Koperator\u001b[m\u001b[K<<(_Ostream&& __os, const _Tp& __x)\n",
            "     \u001b[01;36m\u001b[K^~~~~~~~\u001b[m\u001b[K\n",
            "\u001b[01m\u001b[K/usr/include/c++/7/ostream:682:5:\u001b[m\u001b[K \u001b[01;36m\u001b[Knote: \u001b[m\u001b[K  template argument deduction/substitution failed:\n",
            "/usr/include/c++/7/ostream: In substitution of ‘\u001b[01m\u001b[Ktemplate<class _Ostream, class _Tp> typename std::enable_if<std::__and_<std::__not_<std::is_lvalue_reference<_Tp> >, std::__is_convertible_to_basic_ostream<_Ostream>, std::__is_insertable<typename std::__is_convertible_to_basic_ostream<_Tp>::__ostream_type, const _Tp&, void> >::value, typename std::__is_convertible_to_basic_ostream<_Tp>::__ostream_type>::type std::operator<<(_Ostream&&, const _Tp&) [with _Ostream = std::basic_ostream<char>&; _Tp = std::pair<int, char>]\u001b[m\u001b[K’:\n",
            "\u001b[01m\u001b[Kb.cpp:16:9:\u001b[m\u001b[K   required from here\n",
            "\u001b[01m\u001b[K/usr/include/c++/7/ostream:682:5:\u001b[m\u001b[K \u001b[01;31m\u001b[Kerror: \u001b[m\u001b[Kno type named ‘\u001b[01m\u001b[Ktype\u001b[m\u001b[K’ in ‘\u001b[01m\u001b[Kstruct std::enable_if<false, std::basic_ostream<char>&>\u001b[m\u001b[K’\n"
          ]
        }
      ]
    },
    {
      "cell_type": "code",
      "metadata": {
        "id": "anINm7Bw7RMF",
        "colab": {
          "base_uri": "https://localhost:8080/"
        },
        "outputId": "6d8138d4-34cd-4daa-b270-43cd9779856e"
      },
      "source": [
        "# Map\n",
        "%%cpp\n",
        "\n",
        "// empty map container \n",
        "map<int, int> gquiz1; \n",
        "\n",
        "// insert elements in random order \n",
        "gquiz1.insert(pair<int, int>(1, 40)); \n",
        "gquiz1.insert(pair<int, int>(2, 30)); \n",
        "gquiz1.insert(pair<int, int>(3, 60)); \n",
        "gquiz1.insert(pair<int, int>(4, 20)); \n",
        "gquiz1.insert(pair<int, int>(5, 50)); \n",
        "gquiz1.insert(pair<int, int>(6, 50)); \n",
        "gquiz1.insert(pair<int, int>(7, 10)); \n",
        "\n",
        "// printing map gquiz1 \n",
        "map<int, int>::iterator itr; \n",
        "cout << \"\\nThe map gquiz1 is : \\n\"; \n",
        "cout << \"\\tKEY\\tELEMENT\\n\"; \n",
        "for (itr = gquiz1.begin(); itr != gquiz1.end(); ++itr) { \n",
        "    cout << '\\t' << itr->first \n",
        "          << '\\t' << itr->second << '\\n'; \n",
        "} \n",
        "cout << endl; \n",
        "\n",
        "// assigning the elements from gquiz1 to gquiz2 \n",
        "map<int, int> gquiz2(gquiz1.begin(), gquiz1.end()); \n",
        "\n",
        "// print all elements of the map gquiz2 \n",
        "cout << \"\\nThe map gquiz2 after\"\n",
        "      << \" assign from gquiz1 is : \\n\"; \n",
        "cout << \"\\tKEY\\tELEMENT\\n\"; \n",
        "for (itr = gquiz2.begin(); itr != gquiz2.end(); ++itr) { \n",
        "    cout << '\\t' << itr->first \n",
        "          << '\\t' << itr->second << '\\n'; \n",
        "} \n",
        "cout << endl; \n",
        "\n",
        "// remove all elements up to \n",
        "// element with key=3 in gquiz2 \n",
        "cout << \"\\ngquiz2 after removal of\"\n",
        "        \" elements less than key=3 : \\n\"; \n",
        "cout << \"\\tKEY\\tELEMENT\\n\"; \n",
        "gquiz2.erase(gquiz2.begin(), gquiz2.find(3)); \n",
        "for (itr = gquiz2.begin(); itr != gquiz2.end(); ++itr) { \n",
        "    cout << '\\t' << itr->first \n",
        "          << '\\t' << itr->second << '\\n'; \n",
        "} \n",
        "\n",
        "// remove all elements with key = 4 \n",
        "int num; \n",
        "num = gquiz2.erase(4); \n",
        "cout << \"\\ngquiz2.erase(4) : \"; \n",
        "cout << num << \" removed \\n\"; \n",
        "cout << \"\\tKEY\\tELEMENT\\n\"; \n",
        "for (itr = gquiz2.begin(); itr != gquiz2.end(); ++itr) { \n",
        "    cout << '\\t' << itr->first \n",
        "          << '\\t' << itr->second << '\\n'; \n",
        "} \n",
        "\n",
        "cout << endl; \n",
        "\n",
        "// lower bound and upper bound for map gquiz1 key = 5 \n",
        "cout << \"gquiz1.lower_bound(5) : \"\n",
        "      << \"\\tKEY = \"; \n",
        "cout << gquiz1.lower_bound(5)->first << '\\t'; \n",
        "cout << \"\\tELEMENT = \"\n",
        "      << gquiz1.lower_bound(5)->second << endl; \n",
        "cout << \"gquiz1.upper_bound(5) : \"\n",
        "      << \"\\tKEY = \"; \n",
        "cout << gquiz1.upper_bound(5)->first << '\\t'; \n",
        "cout << \"\\tELEMENT = \"\n",
        "      << gquiz1.upper_bound(5)->second << endl; "
      ],
      "execution_count": null,
      "outputs": [
        {
          "output_type": "stream",
          "text": [
            "\n",
            "The map gquiz1 is : \n",
            "\tKEY\tELEMENT\n",
            "\t1\t40\n",
            "\t2\t30\n",
            "\t3\t60\n",
            "\t4\t20\n",
            "\t5\t50\n",
            "\t6\t50\n",
            "\t7\t10\n",
            "\n",
            "\n",
            "The map gquiz2 after assign from gquiz1 is : \n",
            "\tKEY\tELEMENT\n",
            "\t1\t40\n",
            "\t2\t30\n",
            "\t3\t60\n",
            "\t4\t20\n",
            "\t5\t50\n",
            "\t6\t50\n",
            "\t7\t10\n",
            "\n",
            "\n",
            "gquiz2 after removal of elements less than key=3 : \n",
            "\tKEY\tELEMENT\n",
            "\t3\t60\n",
            "\t4\t20\n",
            "\t5\t50\n",
            "\t6\t50\n",
            "\t7\t10\n",
            "\n",
            "gquiz2.erase(4) : 1 removed \n",
            "\tKEY\tELEMENT\n",
            "\t3\t60\n",
            "\t5\t50\n",
            "\t6\t50\n",
            "\t7\t10\n",
            "\n",
            "gquiz1.lower_bound(5) : \tKEY = 5\t\tELEMENT = 50\n",
            "gquiz1.upper_bound(5) : \tKEY = 6\t\tELEMENT = 50\n"
          ],
          "name": "stdout"
        }
      ]
    },
    {
      "cell_type": "code",
      "metadata": {
        "id": "MLYPnoo08kEG",
        "colab": {
          "base_uri": "https://localhost:8080/"
        },
        "outputId": "93f677c6-5576-4e1f-b3f8-12d9e87eeabd"
      },
      "source": [
        "# map string แบบง่ายๆ\n",
        "%%cpp\n",
        "map<string, string> m;\n",
        "string s1 = \"1\";\n",
        "string v1 = \"A\";\n",
        "\n",
        "m[s1] = v1;\n",
        "cout << m[s1];"
      ],
      "execution_count": null,
      "outputs": [
        {
          "output_type": "stream",
          "text": [
            "A"
          ],
          "name": "stdout"
        }
      ]
    },
    {
      "cell_type": "code",
      "metadata": {
        "id": "XwVKU5hU9RS8",
        "colab": {
          "base_uri": "https://localhost:8080/"
        },
        "outputId": "c2d4e571-51de-4a49-d0e5-8681ad0a1207"
      },
      "source": [
        "# Counter แบบ Python\n",
        "%%cpp\n",
        "\n",
        "map<string, int> m;\n",
        "m[\"word\"] = 0;\n",
        "for (int i=0; i<5; i++) {\n",
        "    m[\"word\"] += 1;\n",
        "}\n",
        "cout << m[\"word\"];"
      ],
      "execution_count": null,
      "outputs": [
        {
          "output_type": "stream",
          "text": [
            "5"
          ],
          "name": "stdout"
        }
      ]
    },
    {
      "cell_type": "code",
      "metadata": {
        "id": "WgFUiB6P-wmB"
      },
      "source": [
        ""
      ],
      "execution_count": null,
      "outputs": []
    }
  ]
}